{
 "cells": [
  {
   "cell_type": "markdown",
   "metadata": {},
   "source": [
    "# Anfis "
   ]
  },
  {
   "cell_type": "code",
   "execution_count": 1,
   "metadata": {},
   "outputs": [],
   "source": [
    "import pandas as pd\n",
    "import numpy as np\n",
    "from sklearn.model_selection import train_test_split\n",
    "from sklearn.metrics import accuracy_score\n",
    "\n",
    "import sys\n",
    "sys.path.insert(0, 'code/')\n",
    "from anfis import ANFIS, predict\n",
    "import membershipfunction"
   ]
  },
  {
   "cell_type": "code",
   "execution_count": 2,
   "metadata": {},
   "outputs": [],
   "source": [
    "def doAnfis(X_train, X_test, Y_train, Y_test):\n",
    "    # Define the membership functions for each feature\n",
    "    mf = [\n",
    "        [\n",
    "            ['gaussmf', {'mean': 0, 'sigma': 0.2}],  # No exclamations\n",
    "            ['gaussmf', {'mean': 0.65, 'sigma': 0.6}]  # Some exclamations (e.g., mean and beyond)\n",
    "        ],\n",
    "        [\n",
    "            ['gaussmf', {'mean': 0, 'sigma': 0.15}],  # No questions\n",
    "            ['gaussmf', {'mean': 1, 'sigma': 0.5}]    # Some questions (mean or slightly beyond)\n",
    "        ],\n",
    "        [\n",
    "            ['gaussmf', {'mean': 0.5, 'sigma': 0.15}],  # Low objectivity\n",
    "            ['gaussmf', {'mean': 0.75, 'sigma': 0.1}],  # Medium objectivity\n",
    "            ['gaussmf', {'mean': 0.9, 'sigma': 0.1}]    # High objectivity\n",
    "        ],\n",
    "        [\n",
    "            ['gaussmf', {'mean': 0, 'sigma': 0.1}],  # No joy\n",
    "            ['gaussmf', {'mean': 0.3, 'sigma': 0.2}]  # Some joy\n",
    "        ],\n",
    "        [\n",
    "            ['gaussmf', {'mean': 0, 'sigma': 0.1}],  # Neutral/No negativity\n",
    "            ['gaussmf', {'mean': 0.5, 'sigma': 0.2}],  # Some negativity\n",
    "            ['gaussmf', {'mean': 1, 'sigma': 0.1}]     # Strong negativity\n",
    "        ],\n",
    "        [\n",
    "            ['gaussmf', {'mean': 0, 'sigma': 0.1}],  # Neutral/No positivity\n",
    "            ['gaussmf', {'mean': 0.5, 'sigma': 0.2}],  # Some positivity\n",
    "            ['gaussmf', {'mean': 1, 'sigma': 0.1}]     # Strong positivity\n",
    "        ]\n",
    "    ]\n",
    "    \n",
    "    # Initialize Membership functions and ANFIS\n",
    "    mfc = membershipfunction.MemFuncs(mf)\n",
    "    anf = ANFIS(X_train, Y_train, mfc)\n",
    "    \n",
    "    # Train the ANFIS model\n",
    "    anf.trainHybridJangOffLine(epochs=100)\n",
    "    \n",
    "    # Make predictions on the test set\n",
    "    predictions = predict(anf, X_test)\n",
    "    \n",
    "    # Post-process predictions to match Y_train/Y_test dimensions\n",
    "    # Rounding predictions to the nearest integer as the output should be categorical\n",
    "    predictions_rounded = np.rint(predictions).astype(int).flatten()\n",
    "    \n",
    "    # Accuracy calculation\n",
    "    accuracy = accuracy_score(Y_test, predictions_rounded)\n",
    "    print(f\"Accuracy: {accuracy * 100:.2f}%\")\n",
    "    \n",
    "    # Optionally, plot errors and results\n",
    "    anf.plotErrors()\n",
    "    anf.plotResults()\n",
    "    \n",
    "    return anf"
   ]
  },
  {
   "cell_type": "code",
   "execution_count": 4,
   "metadata": {},
   "outputs": [
    {
     "name": "stdout",
     "output_type": "stream",
     "text": [
      "Data loaded\n"
     ]
    },
    {
     "name": "stderr",
     "output_type": "stream",
     "text": [
      "Processing:   0%|          | 0/100 [00:00<?, ?it/s]"
     ]
    },
    {
     "name": "stdout",
     "output_type": "stream",
     "text": [
      "current error: 2708.996469066938\n"
     ]
    },
    {
     "name": "stderr",
     "output_type": "stream",
     "text": [
      "Processing:   1%|          | 1/100 [04:42<7:46:26, 282.69s/it]"
     ]
    },
    {
     "name": "stdout",
     "output_type": "stream",
     "text": [
      "current error: 2687.980977459974\n"
     ]
    },
    {
     "name": "stderr",
     "output_type": "stream",
     "text": [
      "Processing:   2%|▏         | 2/100 [09:29<7:45:27, 284.98s/it]"
     ]
    },
    {
     "name": "stdout",
     "output_type": "stream",
     "text": [
      "current error: 2693.9780846194003\n"
     ]
    },
    {
     "name": "stderr",
     "output_type": "stream",
     "text": [
      "Processing:   3%|▎         | 3/100 [14:11<7:39:01, 283.94s/it]"
     ]
    },
    {
     "name": "stdout",
     "output_type": "stream",
     "text": [
      "current error: 2701.4453814332446\n"
     ]
    },
    {
     "name": "stderr",
     "output_type": "stream",
     "text": [
      "Processing:   4%|▍         | 4/100 [18:55<7:33:52, 283.67s/it]"
     ]
    },
    {
     "name": "stdout",
     "output_type": "stream",
     "text": [
      "current error: 2711.192356920275\n"
     ]
    },
    {
     "name": "stderr",
     "output_type": "stream",
     "text": [
      "Processing:   5%|▌         | 5/100 [23:30<7:24:32, 280.77s/it]"
     ]
    },
    {
     "name": "stdout",
     "output_type": "stream",
     "text": [
      "current error: 2724.497382067581\n"
     ]
    },
    {
     "name": "stderr",
     "output_type": "stream",
     "text": [
      "Processing:   6%|▌         | 6/100 [28:10<7:19:09, 280.31s/it]"
     ]
    },
    {
     "name": "stdout",
     "output_type": "stream",
     "text": [
      "current error: 2743.6681241223523\n"
     ]
    },
    {
     "name": "stderr",
     "output_type": "stream",
     "text": [
      "Processing:   7%|▋         | 7/100 [32:47<7:13:08, 279.45s/it]"
     ]
    },
    {
     "name": "stdout",
     "output_type": "stream",
     "text": [
      "current error: 2745.2845809182318\n"
     ]
    },
    {
     "name": "stderr",
     "output_type": "stream",
     "text": [
      "Processing:   8%|▊         | 8/100 [37:24<7:07:14, 278.64s/it]"
     ]
    },
    {
     "name": "stdout",
     "output_type": "stream",
     "text": [
      "current error: 2743.2930746118354\n"
     ]
    },
    {
     "name": "stderr",
     "output_type": "stream",
     "text": [
      "Processing:   9%|▉         | 9/100 [42:02<7:02:06, 278.31s/it]"
     ]
    },
    {
     "name": "stdout",
     "output_type": "stream",
     "text": [
      "current error: 2741.3000813264125\n"
     ]
    },
    {
     "name": "stderr",
     "output_type": "stream",
     "text": [
      "Processing:  10%|█         | 10/100 [46:41<6:57:39, 278.44s/it]"
     ]
    },
    {
     "name": "stdout",
     "output_type": "stream",
     "text": [
      "current error: 2739.285930684785\n"
     ]
    },
    {
     "name": "stderr",
     "output_type": "stream",
     "text": [
      "Processing:  11%|█         | 11/100 [51:18<6:52:24, 278.03s/it]"
     ]
    },
    {
     "name": "stdout",
     "output_type": "stream",
     "text": [
      "current error: 2737.0066445799457\n"
     ]
    },
    {
     "name": "stderr",
     "output_type": "stream",
     "text": [
      "Processing:  12%|█▏        | 12/100 [55:51<6:45:49, 276.70s/it]"
     ]
    },
    {
     "name": "stdout",
     "output_type": "stream",
     "text": [
      "current error: 2734.349981416868\n"
     ]
    },
    {
     "name": "stderr",
     "output_type": "stream",
     "text": [
      "Processing:  13%|█▎        | 13/100 [1:00:37<6:45:17, 279.51s/it]"
     ]
    },
    {
     "name": "stdout",
     "output_type": "stream",
     "text": [
      "current error: 2731.129609147484\n"
     ]
    },
    {
     "name": "stderr",
     "output_type": "stream",
     "text": [
      "Processing:  14%|█▍        | 14/100 [1:05:32<6:47:05, 284.02s/it]"
     ]
    },
    {
     "name": "stdout",
     "output_type": "stream",
     "text": [
      "current error: 2727.050998951474\n"
     ]
    },
    {
     "name": "stderr",
     "output_type": "stream",
     "text": [
      "Processing:  15%|█▌        | 15/100 [1:10:45<6:54:55, 292.89s/it]"
     ]
    },
    {
     "name": "stdout",
     "output_type": "stream",
     "text": [
      "current error: 2721.686679288786\n"
     ]
    },
    {
     "name": "stderr",
     "output_type": "stream",
     "text": [
      "Processing:  16%|█▌        | 16/100 [1:16:22<7:08:26, 306.03s/it]"
     ]
    },
    {
     "name": "stdout",
     "output_type": "stream",
     "text": [
      "current error: 2714.497985444448\n"
     ]
    },
    {
     "name": "stderr",
     "output_type": "stream",
     "text": [
      "Processing:  17%|█▋        | 17/100 [1:21:17<6:58:43, 302.70s/it]"
     ]
    },
    {
     "name": "stdout",
     "output_type": "stream",
     "text": [
      "current error: 2704.9381859241294\n"
     ]
    },
    {
     "name": "stderr",
     "output_type": "stream",
     "text": [
      "Processing:  18%|█▊        | 18/100 [1:26:08<6:49:09, 299.38s/it]"
     ]
    },
    {
     "name": "stdout",
     "output_type": "stream",
     "text": [
      "current error: 2692.7019347730197\n"
     ]
    },
    {
     "name": "stderr",
     "output_type": "stream",
     "text": [
      "Processing:  19%|█▉        | 19/100 [1:31:08<6:44:24, 299.56s/it]"
     ]
    },
    {
     "name": "stdout",
     "output_type": "stream",
     "text": [
      "current error: 2678.5927751649087\n"
     ]
    },
    {
     "name": "stderr",
     "output_type": "stream",
     "text": [
      "Processing:  20%|██        | 20/100 [1:37:40<7:16:19, 327.24s/it]"
     ]
    },
    {
     "name": "stdout",
     "output_type": "stream",
     "text": [
      "current error: 2664.3395413785943\n"
     ]
    },
    {
     "name": "stderr",
     "output_type": "stream",
     "text": [
      "Processing:  21%|██        | 21/100 [1:43:54<7:29:04, 341.08s/it]"
     ]
    },
    {
     "name": "stdout",
     "output_type": "stream",
     "text": [
      "current error: 2655.3421885596354\n"
     ]
    },
    {
     "name": "stderr",
     "output_type": "stream",
     "text": [
      "Processing:  22%|██▏       | 22/100 [1:49:58<7:32:35, 348.14s/it]"
     ]
    },
    {
     "name": "stdout",
     "output_type": "stream",
     "text": [
      "current error: 2684.178360348643\n"
     ]
    }
   ],
   "source": [
    "processed_data = pd.read_csv('anfis_input.csv')\n",
    "print(\"Data loaded\")\n",
    "\n",
    "# Features to keep for the fuzzy system\n",
    "to_keep = ['exclamation_score', 'question_score', 'obj_score', 'joy_score', 'vader_neg', 'vader_pos']\n",
    "\n",
    "# Subset the dataframe for input features\n",
    "fuzzy_data = processed_data[to_keep]\n",
    "\n",
    "# Mapping the target variable (Emotion) to numeric values\n",
    "mapping_dict = {value: index for index, value in enumerate(processed_data['Emotion'].unique())}\n",
    "processed_data['Emotion_mapped'] = processed_data['Emotion'].map(mapping_dict)\n",
    "\n",
    "# Input (X) and Target (Y) variables\n",
    "X = fuzzy_data.values\n",
    "Y = processed_data['Emotion_mapped'].values\n",
    "\n",
    "# Split the data into training and testing sets using train_test_split with stratification\n",
    "X_train, X_test, Y_train, Y_test = train_test_split(X, Y, test_size=0.2, stratify=Y, random_state=42)\n",
    "\n",
    "# Train and evaluate ANFIS\n",
    "anfis_model = doAnfis(X_train, X_test, Y_train, Y_test)"
   ]
  },
  {
   "cell_type": "markdown",
   "metadata": {},
   "source": [
    "Based on the summary statistics we created for each of the six features, we can tailor the membership functions (MFs) for the fuzzy system. The goal is to capture the distribution of each feature effectively by setting appropriate mean and sigma values for Gaussian membership functions.\n",
    "\n",
    "\n",
    "\t    exclamation_score\tquestion_score\tobj_score\tjoy_score\tvader_neg\tvader_pos\n",
    "count\t1110.000000\t        1110.000000\t    1110.000000\t1110.000000\t1110.000000\t1110.000000\n",
    "mean\t0.065042\t        0.042836\t    0.764637\t0.044619\t0.086072\t0.123200\n",
    "std\t    0.231353\t        0.184856\t    0.146033\t0.085424\t0.119278\t0.137306\n",
    "min\t    0.000000\t        0.000000\t    0.000000\t0.000000\t0.000000\t0.000000\n",
    "25%\t    0.000000\t        0.000000\t    0.680783\t0.000000\t0.000000\t0.000000\n",
    "50%\t    0.000000\t        0.000000\t    0.775212\t0.000000\t0.046000\t0.099000\n",
    "75%\t    0.000000\t        0.013289\t    0.861111\t0.064516\t0.131000\t0.177750\n",
    "max\t    3.000000\t        4.000000\t    1.000000\t1.000000\t1.000000\t1.000000\n",
    "\n",
    "\n",
    "General Approach:\n",
    "Mean (mean): Set based on typical values such as quartiles or based on the distribution's central tendency (e.g., mean or median).\n",
    "Sigma (sigma): Set based on the spread of the data, using standard deviation or a fraction of the feature range.\n",
    "\n",
    "\n",
    "1. exclamation_score\n",
    "Range: [0, 3] with most data around 0 (75% of the data has a value of 0).\n",
    "Mean: You might consider separating between \"no exclamations\" and \"has exclamations\". Set one MF around 0 for the bulk of the data and another around the mean or a higher value for rare instances of multiple exclamations.\n",
    "Sigma: Based on the standard deviation (0.23), choose a moderate width for the Gaussians.\n",
    "\n",
    "2. question_score\n",
    "Range: [0, 4], with most data around 0 (median and 75% are 0).\n",
    "Mean: Similar to exclamation_score, most data is 0. So, you can have one MF around 0 and another around the mean or a larger value.\n",
    "Sigma: The standard deviation is 0.18, so the spread should reflect this.\n",
    "\n",
    "3. obj_score\n",
    "Range: [0, 1], with mean 0.76, most data between 0.68 and 0.86.\n",
    "Mean: Since this feature seems to be concentrated in the higher range (close to 1), you could have MFs representing low, medium, and high scores.\n",
    "Sigma: With a standard deviation of 0.15, MFs should have moderate overlap.\n",
    "\n",
    "4. joy_score\n",
    "Range: [0, 1], with most data clustered around 0 (50% of the data is 0, mean is 0.044).\n",
    "Mean: You can have one MF for \"no joy\" around 0 and another for \"presence of joy\" closer to 1.\n",
    "Sigma: Standard deviation is 0.085, so use small spread.\n",
    "\n",
    "5. vader_neg (Negative sentiment)\n",
    "Range: [0, 1], with most data concentrated at 0, but there's a small tail up to 1.\n",
    "Mean: Have one MF around 0 for neutral sentiment, and another for stronger negative sentiment around 1.\n",
    "Sigma: Standard deviation is 0.12, so a relatively narrow spread can be used.\n",
    "\n",
    "6. vader_pos (Positive sentiment)\n",
    "Range: [0, 1], mean is 0.12, with most data below 0.18.\n",
    "Mean: Have one MF for neutral sentiment around 0, and another for positive sentiment closer to 1.\n",
    "Sigma: Similar to vader_neg, standard deviation is 0.14, so a narrow spread can be used.\n",
    "\n",
    "Explanation:\n",
    "exclamation_score and question_score: Since most values are 0, we use two MFs to separate \"no exclamation/question\" from \"some exclamations/questions\".\n",
    "obj_score: A higher range, and since values cluster around 0.76, we have three MFs representing low, medium, and high objectivity.\n",
    "joy_score, vader_neg, and vader_pos: These use two or three MFs to represent \"none\", \"some\", and \"strong\" joy/negativity/positivity.\n",
    "This setup gives a good balance between capturing the typical range and outliers in your dataset."
   ]
  }
 ],
 "metadata": {
  "kernelspec": {
   "display_name": "Python 3",
   "language": "python",
   "name": "python3"
  },
  "language_info": {
   "codemirror_mode": {
    "name": "ipython",
    "version": 3
   },
   "file_extension": ".py",
   "mimetype": "text/x-python",
   "name": "python",
   "nbconvert_exporter": "python",
   "pygments_lexer": "ipython3",
   "version": "3.10.4"
  }
 },
 "nbformat": 4,
 "nbformat_minor": 2
}
