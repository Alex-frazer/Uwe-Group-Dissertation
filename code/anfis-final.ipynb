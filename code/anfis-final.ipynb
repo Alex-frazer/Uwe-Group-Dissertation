{
 "cells": [
  {
   "cell_type": "markdown",
   "metadata": {},
   "source": [
    "# Anfis "
   ]
  },
  {
   "cell_type": "code",
   "execution_count": 36,
   "metadata": {},
   "outputs": [],
   "source": [
    "import pandas as pd\n",
    "import numpy as np\n",
    "from sklearn.model_selection import train_test_split\n",
    "from sklearn.metrics import accuracy_score, confusion_matrix\n",
    "\n",
    "import seaborn as sns\n",
    "import matplotlib.pyplot as plt\n",
    "\n",
    "import sys\n",
    "sys.path.insert(0, 'code/')\n",
    "from anfis import ANFIS, predict\n",
    "import membershipfunction"
   ]
  },
  {
   "cell_type": "code",
   "execution_count": 35,
   "metadata": {},
   "outputs": [],
   "source": [
    "def doAnfis(X_train, X_test, Y_train, Y_test, epochs, mf):\n",
    "    # Initialize Membership functions and ANFIS\n",
    "    mfc = membershipfunction.MemFuncs(mf)\n",
    "    anf = ANFIS(X_train, Y_train, mfc)\n",
    "    \n",
    "    # Train the ANFIS model\n",
    "    anf.trainHybridJangOffLine(epochs=epochs)\n",
    "    \n",
    "    # Make predictions on the test set\n",
    "    predictions = predict(anf, X_test)\n",
    "    \n",
    "    # Post-process predictions to match Y_train/Y_test dimensions\n",
    "    # Rounding predictions to the nearest integer as the output should be categorical\n",
    "    predictions_rounded = np.rint(predictions).astype(int).flatten()\n",
    "    \n",
    "    # Ensure predictions are within the valid label range\n",
    "    min_label = Y_train.min()\n",
    "    max_label = Y_train.max()\n",
    "    predictions_clipped = np.clip(predictions_rounded, min_label, max_label)\n",
    "    \n",
    "    # Accuracy calculation\n",
    "    accuracy = accuracy_score(Y_test, predictions_clipped)\n",
    "    print(f\"Accuracy: {accuracy * 100:.2f}%\")\n",
    "    \n",
    "    # Optionally, plot errors and results\n",
    "    \n",
    "    ## TODO: add lines to the error plots ####\n",
    "    anf.plotErrors()\n",
    "    anf.plotResults()\n",
    "    \n",
    "    return anf, predictions_clipped"
   ]
  },
  {
   "cell_type": "code",
   "execution_count": 41,
   "metadata": {},
   "outputs": [
    {
     "name": "stdout",
     "output_type": "stream",
     "text": [
      "                                                Text  Subjectivity  \\\n",
      "0  great budget even cigarette touched great work...             1   \n",
      "1  exactly scanned budget throughout earth make i...             1   \n",
      "2  already smoking cessation program people want ...             1   \n",
      "3  alcohol fuel private vehicle raising tax cigar...             1   \n",
      "4  practical say third world country supposed eur...             1   \n",
      "\n",
      "  Sentiment Polarity       Emotion  Sarcasm  Irony  Negation  \\\n",
      "0           positive         trust        0      0         1   \n",
      "1           negative       disgust        0      0         1   \n",
      "2            neutral  anticipation        0      0         0   \n",
      "3           negative       sadness        0      0         0   \n",
      "4           negative         anger        0      0         1   \n",
      "\n",
      "                                            Raw_Text  \\\n",
      "0  Great BUDGET . Even cigarettes were not touche...   \n",
      "1  I haven't exactly scanned the budget throughou...   \n",
      "2  There’s already smoking cessation programs for...   \n",
      "3  So should alcohol and fuel for private vehicle...   \n",
      "4  Practical? You should say that in a third worl...   \n",
      "\n",
      "                                              tokens  \\\n",
      "0  ['great', 'budget', 'even', 'cigarette', 'touc...   \n",
      "1  ['exactly', 'scanned', 'budget', 'throughout',...   \n",
      "2  ['already', 'smoking', 'ce', '##ssa', '##tion'...   \n",
      "3  ['alcohol', 'fuel', 'private', 'vehicle', 'rai...   \n",
      "4  ['practical', 'say', 'third', 'world', 'countr...   \n",
      "\n",
      "                                              padded  ... neg_score  \\\n",
      "0  [101, 2307, 5166, 2130, 9907, 5028, 2307, 2147...  ...  0.100000   \n",
      "1  [101, 3599, 11728, 5166, 2802, 3011, 2191, 166...  ...  0.150000   \n",
      "2  [101, 2525, 9422, 8292, 11488, 3508, 2565, 211...  ...  0.214286   \n",
      "3  [101, 6544, 4762, 2797, 4316, 6274, 4171, 9907...  ...  0.176471   \n",
      "4  [101, 6742, 2360, 2353, 2088, 2406, 4011, 2647...  ...  0.000000   \n",
      "\n",
      "   afinn_score  vader_neg  vader_neu  vader_pos  vader_compound  \\\n",
      "0     0.300000      0.000      0.728      0.272          0.8481   \n",
      "1     0.000000      0.000      0.869      0.131          0.6786   \n",
      "2     0.142857      0.000      0.820      0.180          0.5267   \n",
      "3    -0.205882      0.159      0.774      0.067         -0.7906   \n",
      "4     0.000000      0.000      1.000      0.000          0.0000   \n",
      "\n",
      "   polarity_score  subjectivity_score  sarcasm_score  irony_score  \n",
      "0        0.354031            0.995453       0.504226     0.177694  \n",
      "1        0.378365            0.999982       0.505374     0.620364  \n",
      "2        0.320442            0.999993       0.503071     0.453496  \n",
      "3        0.339757            0.999987       0.502797     0.251844  \n",
      "4        0.353488            0.996946       0.504467     0.657175  \n",
      "\n",
      "[5 rows x 36 columns]\n"
     ]
    }
   ],
   "source": [
    "# processed_data = pd.read_csv('anfis_input.csv')\n",
    "# print(\"Data loaded\")\n",
    "\n",
    "# Read the TSV file into a DataFrame\n",
    "processed_data = pd.read_csv('anfis_input.tsv', sep='\\t')\n",
    "\n",
    "# No need to convert columns as the commas in the lists are preserved\n",
    "print(processed_data.head())"
   ]
  },
  {
   "cell_type": "code",
   "execution_count": 39,
   "metadata": {},
   "outputs": [
    {
     "name": "stdout",
     "output_type": "stream",
     "text": [
      "1858\n"
     ]
    }
   ],
   "source": [
    "max_len = processed_data['tokens'].apply(len).max()\n",
    "print(max_len)"
   ]
  },
  {
   "cell_type": "code",
   "execution_count": 9,
   "metadata": {},
   "outputs": [
    {
     "name": "stderr",
     "output_type": "stream",
     "text": []
    },
    {
     "name": "stdout",
     "output_type": "stream",
     "text": [
      "current error: 3211.2936538801905\n"
     ]
    },
    {
     "name": "stderr",
     "output_type": "stream",
     "text": []
    },
    {
     "name": "stdout",
     "output_type": "stream",
     "text": [
      "current error: 3207.0980859356596\n"
     ]
    },
    {
     "name": "stderr",
     "output_type": "stream",
     "text": []
    },
    {
     "name": "stdout",
     "output_type": "stream",
     "text": [
      "current error: 3199.986772316126\n"
     ]
    },
    {
     "name": "stderr",
     "output_type": "stream",
     "text": []
    },
    {
     "name": "stdout",
     "output_type": "stream",
     "text": [
      "current error: 3189.52437223615\n"
     ]
    },
    {
     "name": "stderr",
     "output_type": "stream",
     "text": []
    },
    {
     "name": "stdout",
     "output_type": "stream",
     "text": [
      "current error: 3173.1386172757366\n"
     ]
    },
    {
     "name": "stderr",
     "output_type": "stream",
     "text": []
    },
    {
     "name": "stdout",
     "output_type": "stream",
     "text": [
      "current error: 3155.9327722438816\n"
     ]
    },
    {
     "name": "stderr",
     "output_type": "stream",
     "text": []
    },
    {
     "name": "stdout",
     "output_type": "stream",
     "text": [
      "current error: 3117.6367526380945\n"
     ]
    },
    {
     "name": "stderr",
     "output_type": "stream",
     "text": []
    },
    {
     "name": "stdout",
     "output_type": "stream",
     "text": [
      "current error: 3055.537922251844\n"
     ]
    },
    {
     "name": "stderr",
     "output_type": "stream",
     "text": []
    },
    {
     "name": "stdout",
     "output_type": "stream",
     "text": [
      "current error: 3024.8091020962192\n"
     ]
    },
    {
     "name": "stderr",
     "output_type": "stream",
     "text": []
    },
    {
     "name": "stdout",
     "output_type": "stream",
     "text": [
      "current error: 3046.1131295712885\n"
     ]
    },
    {
     "name": "stderr",
     "output_type": "stream",
     "text": []
    },
    {
     "name": "stdout",
     "output_type": "stream",
     "text": [
      "current error: 3045.005655311402\n"
     ]
    },
    {
     "name": "stderr",
     "output_type": "stream",
     "text": []
    },
    {
     "name": "stdout",
     "output_type": "stream",
     "text": [
      "current error: 3046.4125517568914\n"
     ]
    },
    {
     "name": "stderr",
     "output_type": "stream",
     "text": []
    },
    {
     "name": "stdout",
     "output_type": "stream",
     "text": [
      "current error: 3049.704439067579\n"
     ]
    },
    {
     "name": "stderr",
     "output_type": "stream",
     "text": []
    },
    {
     "name": "stdout",
     "output_type": "stream",
     "text": [
      "current error: 3055.4275148764705\n"
     ]
    },
    {
     "name": "stderr",
     "output_type": "stream",
     "text": []
    },
    {
     "name": "stdout",
     "output_type": "stream",
     "text": [
      "current error: 3065.983379502131\n"
     ]
    },
    {
     "name": "stderr",
     "output_type": "stream",
     "text": []
    },
    {
     "name": "stdout",
     "output_type": "stream",
     "text": [
      "current error: 3100.69737324192\n"
     ]
    },
    {
     "name": "stderr",
     "output_type": "stream",
     "text": []
    },
    {
     "name": "stdout",
     "output_type": "stream",
     "text": [
      "current error: 3149.326858200879\n"
     ]
    },
    {
     "name": "stderr",
     "output_type": "stream",
     "text": []
    },
    {
     "name": "stdout",
     "output_type": "stream",
     "text": [
      "current error: 3157.71854912839\n"
     ]
    },
    {
     "name": "stderr",
     "output_type": "stream",
     "text": []
    },
    {
     "name": "stdout",
     "output_type": "stream",
     "text": [
      "current error: 3161.879481057459\n"
     ]
    },
    {
     "name": "stderr",
     "output_type": "stream",
     "text": []
    },
    {
     "name": "stdout",
     "output_type": "stream",
     "text": [
      "current error: 3157.3622632839083\n"
     ]
    },
    {
     "name": "stderr",
     "output_type": "stream",
     "text": []
    },
    {
     "name": "stdout",
     "output_type": "stream",
     "text": [
      "current error: 3158.0643978063454\n"
     ]
    },
    {
     "name": "stderr",
     "output_type": "stream",
     "text": []
    },
    {
     "name": "stdout",
     "output_type": "stream",
     "text": [
      "current error: 3158.7408245776624\n"
     ]
    },
    {
     "name": "stderr",
     "output_type": "stream",
     "text": []
    },
    {
     "name": "stdout",
     "output_type": "stream",
     "text": [
      "current error: 3159.393639938863\n"
     ]
    },
    {
     "name": "stderr",
     "output_type": "stream",
     "text": []
    },
    {
     "name": "stdout",
     "output_type": "stream",
     "text": [
      "current error: 3160.02477144937\n"
     ]
    },
    {
     "name": "stderr",
     "output_type": "stream",
     "text": []
    },
    {
     "name": "stdout",
     "output_type": "stream",
     "text": [
      "current error: 3160.6360397629714\n"
     ]
    },
    {
     "name": "stderr",
     "output_type": "stream",
     "text": []
    },
    {
     "name": "stdout",
     "output_type": "stream",
     "text": [
      "current error: 3161.229216473809\n"
     ]
    },
    {
     "name": "stderr",
     "output_type": "stream",
     "text": []
    },
    {
     "name": "stdout",
     "output_type": "stream",
     "text": [
      "current error: 3161.806085307163\n"
     ]
    },
    {
     "name": "stderr",
     "output_type": "stream",
     "text": []
    },
    {
     "name": "stdout",
     "output_type": "stream",
     "text": [
      "current error: 3162.3685154080326\n"
     ]
    },
    {
     "name": "stderr",
     "output_type": "stream",
     "text": []
    },
    {
     "name": "stdout",
     "output_type": "stream",
     "text": [
      "current error: 3162.9185594386754\n"
     ]
    },
    {
     "name": "stderr",
     "output_type": "stream",
     "text": []
    },
    {
     "name": "stdout",
     "output_type": "stream",
     "text": [
      "current error: 3163.4585978091554\n"
     ]
    },
    {
     "name": "stderr",
     "output_type": "stream",
     "text": []
    },
    {
     "name": "stdout",
     "output_type": "stream",
     "text": [
      "current error: 3163.9915687745647\n"
     ]
    },
    {
     "name": "stderr",
     "output_type": "stream",
     "text": []
    },
    {
     "name": "stdout",
     "output_type": "stream",
     "text": [
      "current error: 3164.521365582224\n"
     ]
    },
    {
     "name": "stderr",
     "output_type": "stream",
     "text": []
    },
    {
     "name": "stdout",
     "output_type": "stream",
     "text": [
      "current error: 3165.0535838741957\n"
     ]
    },
    {
     "name": "stderr",
     "output_type": "stream",
     "text": []
    },
    {
     "name": "stdout",
     "output_type": "stream",
     "text": [
      "current error: 3165.5970869343037\n"
     ]
    },
    {
     "name": "stderr",
     "output_type": "stream",
     "text": []
    },
    {
     "name": "stdout",
     "output_type": "stream",
     "text": [
      "current error: 3166.1677991972897\n"
     ]
    },
    {
     "name": "stderr",
     "output_type": "stream",
     "text": []
    },
    {
     "name": "stdout",
     "output_type": "stream",
     "text": [
      "current error: 3166.8001858782554\n"
     ]
    },
    {
     "name": "stderr",
     "output_type": "stream",
     "text": []
    },
    {
     "name": "stdout",
     "output_type": "stream",
     "text": [
      "current error: 3167.59899654482\n"
     ]
    },
    {
     "name": "stderr",
     "output_type": "stream",
     "text": []
    },
    {
     "name": "stdout",
     "output_type": "stream",
     "text": [
      "current error: 3169.4629137550937\n"
     ]
    },
    {
     "name": "stderr",
     "output_type": "stream",
     "text": []
    },
    {
     "name": "stdout",
     "output_type": "stream",
     "text": [
      "current error: 3169.687545389482\n"
     ]
    },
    {
     "name": "stderr",
     "output_type": "stream",
     "text": []
    },
    {
     "name": "stdout",
     "output_type": "stream",
     "text": [
      "current error: 3170.87572589276\n"
     ]
    },
    {
     "name": "stderr",
     "output_type": "stream",
     "text": []
    },
    {
     "name": "stdout",
     "output_type": "stream",
     "text": [
      "current error: 3170.878881324871\n"
     ]
    },
    {
     "name": "stderr",
     "output_type": "stream",
     "text": []
    },
    {
     "name": "stdout",
     "output_type": "stream",
     "text": [
      "current error: 3171.87526573424\n"
     ]
    },
    {
     "name": "stderr",
     "output_type": "stream",
     "text": []
    },
    {
     "name": "stdout",
     "output_type": "stream",
     "text": [
      "current error: 3171.880887196393\n"
     ]
    },
    {
     "name": "stderr",
     "output_type": "stream",
     "text": []
    },
    {
     "name": "stdout",
     "output_type": "stream",
     "text": [
      "current error: 3168.0177051714663\n"
     ]
    },
    {
     "name": "stderr",
     "output_type": "stream",
     "text": []
    },
    {
     "name": "stdout",
     "output_type": "stream",
     "text": [
      "current error: 3170.1299058313075\n"
     ]
    },
    {
     "name": "stderr",
     "output_type": "stream",
     "text": []
    },
    {
     "name": "stdout",
     "output_type": "stream",
     "text": [
      "current error: 3172.3071970124483\n"
     ]
    },
    {
     "name": "stderr",
     "output_type": "stream",
     "text": []
    },
    {
     "name": "stdout",
     "output_type": "stream",
     "text": [
      "current error: 3174.717146343228\n"
     ]
    },
    {
     "name": "stderr",
     "output_type": "stream",
     "text": []
    },
    {
     "name": "stdout",
     "output_type": "stream",
     "text": [
      "current error: 3178.558827638713\n"
     ]
    },
    {
     "name": "stderr",
     "output_type": "stream",
     "text": []
    },
    {
     "name": "stdout",
     "output_type": "stream",
     "text": [
      "current error: 3177.8899346893227\n"
     ]
    },
    {
     "name": "stderr",
     "output_type": "stream",
     "text": []
    },
    {
     "name": "stdout",
     "output_type": "stream",
     "text": [
      "current error: 3177.427946566018\n"
     ]
    },
    {
     "name": "stderr",
     "output_type": "stream",
     "text": []
    },
    {
     "name": "stdout",
     "output_type": "stream",
     "text": [
      "current error: 3177.3301772482737\n"
     ]
    },
    {
     "name": "stderr",
     "output_type": "stream",
     "text": []
    },
    {
     "name": "stdout",
     "output_type": "stream",
     "text": [
      "current error: 3177.109613938759\n"
     ]
    },
    {
     "name": "stderr",
     "output_type": "stream",
     "text": []
    },
    {
     "name": "stdout",
     "output_type": "stream",
     "text": [
      "current error: 3178.023709802257\n"
     ]
    },
    {
     "name": "stderr",
     "output_type": "stream",
     "text": []
    },
    {
     "name": "stdout",
     "output_type": "stream",
     "text": [
      "current error: 3176.626971369292\n"
     ]
    },
    {
     "name": "stderr",
     "output_type": "stream",
     "text": []
    },
    {
     "name": "stdout",
     "output_type": "stream",
     "text": [
      "current error: 3178.13653369718\n"
     ]
    },
    {
     "name": "stderr",
     "output_type": "stream",
     "text": []
    },
    {
     "name": "stdout",
     "output_type": "stream",
     "text": [
      "current error: 3176.7599250498597\n"
     ]
    },
    {
     "name": "stderr",
     "output_type": "stream",
     "text": []
    },
    {
     "name": "stdout",
     "output_type": "stream",
     "text": [
      "current error: 3178.261028001104\n"
     ]
    },
    {
     "name": "stderr",
     "output_type": "stream",
     "text": []
    },
    {
     "name": "stdout",
     "output_type": "stream",
     "text": [
      "current error: 3176.894821641119\n"
     ]
    },
    {
     "name": "stderr",
     "output_type": "stream",
     "text": []
    },
    {
     "name": "stdout",
     "output_type": "stream",
     "text": [
      "current error: 3178.392258046172\n"
     ]
    },
    {
     "name": "stderr",
     "output_type": "stream",
     "text": []
    },
    {
     "name": "stdout",
     "output_type": "stream",
     "text": [
      "current error: 3177.046280168277\n"
     ]
    },
    {
     "name": "stderr",
     "output_type": "stream",
     "text": []
    },
    {
     "name": "stdout",
     "output_type": "stream",
     "text": [
      "current error: 3178.54026426873\n"
     ]
    },
    {
     "name": "stderr",
     "output_type": "stream",
     "text": []
    },
    {
     "name": "stdout",
     "output_type": "stream",
     "text": [
      "current error: 3177.220645982481\n"
     ]
    },
    {
     "name": "stderr",
     "output_type": "stream",
     "text": []
    },
    {
     "name": "stdout",
     "output_type": "stream",
     "text": [
      "current error: 3178.711483558697\n"
     ]
    },
    {
     "name": "stderr",
     "output_type": "stream",
     "text": []
    },
    {
     "name": "stdout",
     "output_type": "stream",
     "text": [
      "current error: 3177.4281494086867\n"
     ]
    },
    {
     "name": "stderr",
     "output_type": "stream",
     "text": []
    },
    {
     "name": "stdout",
     "output_type": "stream",
     "text": [
      "current error: 3178.9161750499884\n"
     ]
    },
    {
     "name": "stderr",
     "output_type": "stream",
     "text": []
    },
    {
     "name": "stdout",
     "output_type": "stream",
     "text": [
      "current error: 3177.685538200658\n"
     ]
    },
    {
     "name": "stderr",
     "output_type": "stream",
     "text": []
    },
    {
     "name": "stdout",
     "output_type": "stream",
     "text": [
      "current error: 3179.171179594513\n"
     ]
    },
    {
     "name": "stderr",
     "output_type": "stream",
     "text": []
    },
    {
     "name": "stdout",
     "output_type": "stream",
     "text": [
      "current error: 3178.0211018056298\n"
     ]
    },
    {
     "name": "stderr",
     "output_type": "stream",
     "text": []
    },
    {
     "name": "stdout",
     "output_type": "stream",
     "text": [
      "current error: 3179.5049639521594\n"
     ]
    },
    {
     "name": "stderr",
     "output_type": "stream",
     "text": []
    },
    {
     "name": "stdout",
     "output_type": "stream",
     "text": [
      "current error: 3178.4777661982907\n"
     ]
    },
    {
     "name": "stderr",
     "output_type": "stream",
     "text": []
    },
    {
     "name": "stdout",
     "output_type": "stream",
     "text": [
      "current error: 3179.960781795304\n"
     ]
    },
    {
     "name": "stderr",
     "output_type": "stream",
     "text": []
    },
    {
     "name": "stdout",
     "output_type": "stream",
     "text": [
      "current error: 3179.0783015414386\n"
     ]
    },
    {
     "name": "stderr",
     "output_type": "stream",
     "text": []
    },
    {
     "name": "stdout",
     "output_type": "stream",
     "text": [
      "current error: 3180.561708152466\n"
     ]
    },
    {
     "name": "stderr",
     "output_type": "stream",
     "text": []
    },
    {
     "name": "stdout",
     "output_type": "stream",
     "text": [
      "current error: 3179.7185619032084\n"
     ]
    },
    {
     "name": "stderr",
     "output_type": "stream",
     "text": []
    },
    {
     "name": "stdout",
     "output_type": "stream",
     "text": [
      "current error: 3181.2031797486397\n"
     ]
    },
    {
     "name": "stderr",
     "output_type": "stream",
     "text": []
    },
    {
     "name": "stdout",
     "output_type": "stream",
     "text": [
      "current error: 3180.3073809097614\n"
     ]
    },
    {
     "name": "stderr",
     "output_type": "stream",
     "text": []
    },
    {
     "name": "stdout",
     "output_type": "stream",
     "text": [
      "current error: 3181.7933973101935\n"
     ]
    },
    {
     "name": "stderr",
     "output_type": "stream",
     "text": []
    },
    {
     "name": "stdout",
     "output_type": "stream",
     "text": [
      "current error: 3180.863099337212\n"
     ]
    },
    {
     "name": "stderr",
     "output_type": "stream",
     "text": []
    },
    {
     "name": "stdout",
     "output_type": "stream",
     "text": [
      "current error: 3182.3517512909816\n"
     ]
    },
    {
     "name": "stderr",
     "output_type": "stream",
     "text": []
    },
    {
     "name": "stdout",
     "output_type": "stream",
     "text": [
      "current error: 3181.430419478438\n"
     ]
    },
    {
     "name": "stderr",
     "output_type": "stream",
     "text": []
    },
    {
     "name": "stdout",
     "output_type": "stream",
     "text": [
      "current error: 3182.9235907088714\n"
     ]
    },
    {
     "name": "stderr",
     "output_type": "stream",
     "text": []
    },
    {
     "name": "stdout",
     "output_type": "stream",
     "text": [
      "current error: 3182.105334952498\n"
     ]
    },
    {
     "name": "stderr",
     "output_type": "stream",
     "text": []
    },
    {
     "name": "stdout",
     "output_type": "stream",
     "text": [
      "current error: 3183.6208805674232\n"
     ]
    },
    {
     "name": "stderr",
     "output_type": "stream",
     "text": []
    },
    {
     "name": "stdout",
     "output_type": "stream",
     "text": [
      "current error: 3192.2655031512077\n"
     ]
    },
    {
     "name": "stderr",
     "output_type": "stream",
     "text": []
    },
    {
     "name": "stdout",
     "output_type": "stream",
     "text": [
      "current error: 3193.5687414992753\n"
     ]
    },
    {
     "name": "stderr",
     "output_type": "stream",
     "text": []
    },
    {
     "name": "stdout",
     "output_type": "stream",
     "text": [
      "current error: 3194.8336126596714\n"
     ]
    },
    {
     "name": "stderr",
     "output_type": "stream",
     "text": []
    },
    {
     "name": "stdout",
     "output_type": "stream",
     "text": [
      "current error: 3196.06833138961\n"
     ]
    },
    {
     "name": "stderr",
     "output_type": "stream",
     "text": []
    },
    {
     "name": "stdout",
     "output_type": "stream",
     "text": [
      "current error: 3197.2843849343226\n"
     ]
    },
    {
     "name": "stderr",
     "output_type": "stream",
     "text": []
    },
    {
     "name": "stdout",
     "output_type": "stream",
     "text": [
      "current error: 3198.499078312614\n"
     ]
    },
    {
     "name": "stderr",
     "output_type": "stream",
     "text": []
    },
    {
     "name": "stdout",
     "output_type": "stream",
     "text": [
      "current error: 3199.741766986076\n"
     ]
    },
    {
     "name": "stderr",
     "output_type": "stream",
     "text": []
    },
    {
     "name": "stdout",
     "output_type": "stream",
     "text": [
      "current error: 3201.067448423115\n"
     ]
    },
    {
     "name": "stderr",
     "output_type": "stream",
     "text": []
    },
    {
     "name": "stdout",
     "output_type": "stream",
     "text": [
      "current error: 3201.9519130032622\n"
     ]
    },
    {
     "name": "stderr",
     "output_type": "stream",
     "text": []
    },
    {
     "name": "stdout",
     "output_type": "stream",
     "text": [
      "current error: 3199.4292726282856\n"
     ]
    },
    {
     "name": "stderr",
     "output_type": "stream",
     "text": []
    },
    {
     "name": "stdout",
     "output_type": "stream",
     "text": [
      "current error: 3195.2483966071195\n"
     ]
    },
    {
     "name": "stderr",
     "output_type": "stream",
     "text": []
    },
    {
     "name": "stdout",
     "output_type": "stream",
     "text": [
      "current error: 3187.753457858077\n"
     ]
    },
    {
     "name": "stderr",
     "output_type": "stream",
     "text": []
    },
    {
     "name": "stdout",
     "output_type": "stream",
     "text": [
      "current error: 3185.26275042074\n"
     ]
    },
    {
     "name": "stderr",
     "output_type": "stream",
     "text": []
    },
    {
     "name": "stdout",
     "output_type": "stream",
     "text": [
      "current error: 3179.5321478880824\n"
     ]
    },
    {
     "name": "stderr",
     "output_type": "stream",
     "text": []
    },
    {
     "name": "stdout",
     "output_type": "stream",
     "text": [
      "current error: 3172.78107103919\n"
     ]
    },
    {
     "name": "stderr",
     "output_type": "stream",
     "text": []
    },
    {
     "name": "stdout",
     "output_type": "stream",
     "text": [
      "current error: 3164.6861300707515\n"
     ]
    },
    {
     "name": "stderr",
     "output_type": "stream",
     "text": []
    },
    {
     "name": "stdout",
     "output_type": "stream",
     "text": [
      "current error: 3152.899291297296\n"
     ]
    },
    {
     "name": "stderr",
     "output_type": "stream",
     "text": []
    },
    {
     "name": "stdout",
     "output_type": "stream",
     "text": [
      "current error: 3134.7074989974717\n"
     ]
    },
    {
     "name": "stderr",
     "output_type": "stream",
     "text": []
    },
    {
     "name": "stdout",
     "output_type": "stream",
     "text": [
      "current error: 3122.002714294134\n"
     ]
    },
    {
     "name": "stderr",
     "output_type": "stream",
     "text": []
    },
    {
     "name": "stdout",
     "output_type": "stream",
     "text": [
      "current error: 3134.7912214209914\n"
     ]
    },
    {
     "name": "stderr",
     "output_type": "stream",
     "text": []
    },
    {
     "name": "stdout",
     "output_type": "stream",
     "text": [
      "current error: 3121.871984445686\n"
     ]
    },
    {
     "name": "stderr",
     "output_type": "stream",
     "text": []
    },
    {
     "name": "stdout",
     "output_type": "stream",
     "text": [
      "current error: 3120.743788143337\n"
     ]
    },
    {
     "name": "stderr",
     "output_type": "stream",
     "text": []
    },
    {
     "name": "stdout",
     "output_type": "stream",
     "text": [
      "current error: 3105.3488395258437\n"
     ]
    },
    {
     "name": "stderr",
     "output_type": "stream",
     "text": []
    },
    {
     "name": "stdout",
     "output_type": "stream",
     "text": [
      "current error: 3123.726033836936\n"
     ]
    },
    {
     "name": "stderr",
     "output_type": "stream",
     "text": []
    },
    {
     "name": "stdout",
     "output_type": "stream",
     "text": [
      "current error: 3107.232327029671\n"
     ]
    },
    {
     "name": "stderr",
     "output_type": "stream",
     "text": []
    },
    {
     "name": "stdout",
     "output_type": "stream",
     "text": [
      "current error: 3123.471767213253\n"
     ]
    },
    {
     "name": "stderr",
     "output_type": "stream",
     "text": []
    },
    {
     "name": "stdout",
     "output_type": "stream",
     "text": [
      "current error: 3107.7003595162682\n"
     ]
    },
    {
     "name": "stderr",
     "output_type": "stream",
     "text": []
    },
    {
     "name": "stdout",
     "output_type": "stream",
     "text": [
      "current error: 3124.9930831333204\n"
     ]
    },
    {
     "name": "stderr",
     "output_type": "stream",
     "text": []
    },
    {
     "name": "stdout",
     "output_type": "stream",
     "text": [
      "current error: 3110.8498054709326\n"
     ]
    },
    {
     "name": "stderr",
     "output_type": "stream",
     "text": []
    },
    {
     "name": "stdout",
     "output_type": "stream",
     "text": [
      "current error: 3101.467006225299\n"
     ]
    },
    {
     "name": "stderr",
     "output_type": "stream",
     "text": []
    },
    {
     "name": "stdout",
     "output_type": "stream",
     "text": [
      "current error: 3112.4172677229108\n"
     ]
    },
    {
     "name": "stderr",
     "output_type": "stream",
     "text": []
    },
    {
     "name": "stdout",
     "output_type": "stream",
     "text": [
      "current error: 3100.0922945134243\n"
     ]
    },
    {
     "name": "stderr",
     "output_type": "stream",
     "text": []
    },
    {
     "name": "stdout",
     "output_type": "stream",
     "text": [
      "current error: 3112.016898694431\n"
     ]
    },
    {
     "name": "stderr",
     "output_type": "stream",
     "text": []
    },
    {
     "name": "stdout",
     "output_type": "stream",
     "text": [
      "current error: 3100.1179486309784\n"
     ]
    },
    {
     "name": "stderr",
     "output_type": "stream",
     "text": []
    },
    {
     "name": "stdout",
     "output_type": "stream",
     "text": [
      "current error: 3113.186129340029\n"
     ]
    },
    {
     "name": "stderr",
     "output_type": "stream",
     "text": []
    },
    {
     "name": "stdout",
     "output_type": "stream",
     "text": [
      "current error: 3101.884126905503\n"
     ]
    },
    {
     "name": "stderr",
     "output_type": "stream",
     "text": []
    },
    {
     "name": "stdout",
     "output_type": "stream",
     "text": [
      "current error: 3114.346855746634\n"
     ]
    },
    {
     "name": "stderr",
     "output_type": "stream",
     "text": []
    },
    {
     "name": "stdout",
     "output_type": "stream",
     "text": [
      "current error: 3101.672552565473\n"
     ]
    },
    {
     "name": "stderr",
     "output_type": "stream",
     "text": []
    },
    {
     "name": "stdout",
     "output_type": "stream",
     "text": [
      "current error: 3115.4395792104515\n"
     ]
    },
    {
     "name": "stderr",
     "output_type": "stream",
     "text": []
    },
    {
     "name": "stdout",
     "output_type": "stream",
     "text": [
      "current error: 3102.435840958815\n"
     ]
    },
    {
     "name": "stderr",
     "output_type": "stream",
     "text": []
    },
    {
     "name": "stdout",
     "output_type": "stream",
     "text": [
      "current error: 3116.606265201078\n"
     ]
    },
    {
     "name": "stderr",
     "output_type": "stream",
     "text": []
    },
    {
     "name": "stdout",
     "output_type": "stream",
     "text": [
      "current error: 3104.0967676720984\n"
     ]
    },
    {
     "name": "stderr",
     "output_type": "stream",
     "text": []
    },
    {
     "name": "stdout",
     "output_type": "stream",
     "text": [
      "current error: 3119.2322051996334\n"
     ]
    },
    {
     "name": "stderr",
     "output_type": "stream",
     "text": []
    },
    {
     "name": "stdout",
     "output_type": "stream",
     "text": [
      "current error: 3108.292619160564\n"
     ]
    },
    {
     "name": "stderr",
     "output_type": "stream",
     "text": []
    },
    {
     "name": "stdout",
     "output_type": "stream",
     "text": [
      "current error: 3097.7268426338583\n"
     ]
    },
    {
     "name": "stderr",
     "output_type": "stream",
     "text": []
    },
    {
     "name": "stdout",
     "output_type": "stream",
     "text": [
      "current error: 3109.4776663063594\n"
     ]
    },
    {
     "name": "stderr",
     "output_type": "stream",
     "text": []
    },
    {
     "name": "stdout",
     "output_type": "stream",
     "text": [
      "current error: 3098.4149284011087\n"
     ]
    },
    {
     "name": "stderr",
     "output_type": "stream",
     "text": []
    },
    {
     "name": "stdout",
     "output_type": "stream",
     "text": [
      "current error: 3109.26696005792\n"
     ]
    },
    {
     "name": "stderr",
     "output_type": "stream",
     "text": []
    },
    {
     "name": "stdout",
     "output_type": "stream",
     "text": [
      "current error: 3098.3788232655497\n"
     ]
    },
    {
     "name": "stderr",
     "output_type": "stream",
     "text": []
    },
    {
     "name": "stdout",
     "output_type": "stream",
     "text": [
      "current error: 3110.2498890362613\n"
     ]
    },
    {
     "name": "stderr",
     "output_type": "stream",
     "text": []
    },
    {
     "name": "stdout",
     "output_type": "stream",
     "text": [
      "current error: 3099.1776642562027\n"
     ]
    },
    {
     "name": "stderr",
     "output_type": "stream",
     "text": []
    },
    {
     "name": "stdout",
     "output_type": "stream",
     "text": [
      "current error: 3111.2602623991206\n"
     ]
    },
    {
     "name": "stderr",
     "output_type": "stream",
     "text": []
    },
    {
     "name": "stdout",
     "output_type": "stream",
     "text": [
      "current error: 3100.4139667200043\n"
     ]
    },
    {
     "name": "stderr",
     "output_type": "stream",
     "text": []
    },
    {
     "name": "stdout",
     "output_type": "stream",
     "text": [
      "current error: 3112.4802656445463\n"
     ]
    },
    {
     "name": "stderr",
     "output_type": "stream",
     "text": []
    },
    {
     "name": "stdout",
     "output_type": "stream",
     "text": [
      "current error: 3102.1085671913033\n"
     ]
    },
    {
     "name": "stderr",
     "output_type": "stream",
     "text": []
    },
    {
     "name": "stdout",
     "output_type": "stream",
     "text": [
      "current error: 3096.634278788214\n"
     ]
    },
    {
     "name": "stderr",
     "output_type": "stream",
     "text": []
    },
    {
     "name": "stdout",
     "output_type": "stream",
     "text": [
      "current error: 3108.4142274166643\n"
     ]
    },
    {
     "name": "stderr",
     "output_type": "stream",
     "text": []
    },
    {
     "name": "stdout",
     "output_type": "stream",
     "text": [
      "current error: 3097.679004269482\n"
     ]
    },
    {
     "name": "stderr",
     "output_type": "stream",
     "text": []
    },
    {
     "name": "stdout",
     "output_type": "stream",
     "text": [
      "current error: 3108.3886957872573\n"
     ]
    },
    {
     "name": "stderr",
     "output_type": "stream",
     "text": []
    },
    {
     "name": "stdout",
     "output_type": "stream",
     "text": [
      "current error: 3098.841437916085\n"
     ]
    },
    {
     "name": "stderr",
     "output_type": "stream",
     "text": []
    },
    {
     "name": "stdout",
     "output_type": "stream",
     "text": [
      "current error: 3109.6107962161254\n"
     ]
    },
    {
     "name": "stderr",
     "output_type": "stream",
     "text": []
    },
    {
     "name": "stdout",
     "output_type": "stream",
     "text": [
      "current error: 3100.4290698301293\n"
     ]
    },
    {
     "name": "stderr",
     "output_type": "stream",
     "text": []
    },
    {
     "name": "stdout",
     "output_type": "stream",
     "text": [
      "current error: 3094.420430601487\n"
     ]
    },
    {
     "name": "stderr",
     "output_type": "stream",
     "text": []
    },
    {
     "name": "stdout",
     "output_type": "stream",
     "text": [
      "current error: 3104.703516107047\n"
     ]
    },
    {
     "name": "stderr",
     "output_type": "stream",
     "text": []
    },
    {
     "name": "stdout",
     "output_type": "stream",
     "text": [
      "current error: 3095.198565259336\n"
     ]
    },
    {
     "name": "stderr",
     "output_type": "stream",
     "text": []
    },
    {
     "name": "stdout",
     "output_type": "stream",
     "text": [
      "current error: 3104.6403509635757\n"
     ]
    },
    {
     "name": "stderr",
     "output_type": "stream",
     "text": []
    },
    {
     "name": "stdout",
     "output_type": "stream",
     "text": [
      "current error: 3096.0917026371603\n"
     ]
    },
    {
     "name": "stderr",
     "output_type": "stream",
     "text": []
    },
    {
     "name": "stdout",
     "output_type": "stream",
     "text": [
      "current error: 3105.549034466042\n"
     ]
    },
    {
     "name": "stderr",
     "output_type": "stream",
     "text": []
    },
    {
     "name": "stdout",
     "output_type": "stream",
     "text": [
      "current error: 3097.137957395747\n"
     ]
    },
    {
     "name": "stderr",
     "output_type": "stream",
     "text": []
    },
    {
     "name": "stdout",
     "output_type": "stream",
     "text": [
      "current error: 3106.672180358399\n"
     ]
    },
    {
     "name": "stderr",
     "output_type": "stream",
     "text": []
    },
    {
     "name": "stdout",
     "output_type": "stream",
     "text": [
      "current error: 3098.5059022594405\n"
     ]
    },
    {
     "name": "stderr",
     "output_type": "stream",
     "text": []
    },
    {
     "name": "stdout",
     "output_type": "stream",
     "text": [
      "current error: 3102.4216209349916\n"
     ]
    },
    {
     "name": "stderr",
     "output_type": "stream",
     "text": []
    },
    {
     "name": "stdout",
     "output_type": "stream",
     "text": [
      "current error: 3101.8991830000186\n"
     ]
    },
    {
     "name": "stderr",
     "output_type": "stream",
     "text": []
    },
    {
     "name": "stdout",
     "output_type": "stream",
     "text": [
      "current error: 3101.725770642022\n"
     ]
    },
    {
     "name": "stderr",
     "output_type": "stream",
     "text": []
    },
    {
     "name": "stdout",
     "output_type": "stream",
     "text": [
      "current error: 3101.808768780217\n"
     ]
    },
    {
     "name": "stderr",
     "output_type": "stream",
     "text": []
    },
    {
     "name": "stdout",
     "output_type": "stream",
     "text": [
      "current error: 3102.0813036481854\n"
     ]
    },
    {
     "name": "stderr",
     "output_type": "stream",
     "text": []
    },
    {
     "name": "stdout",
     "output_type": "stream",
     "text": [
      "current error: 3102.494957716434\n"
     ]
    },
    {
     "name": "stderr",
     "output_type": "stream",
     "text": []
    },
    {
     "name": "stdout",
     "output_type": "stream",
     "text": [
      "current error: 3103.014167361544\n"
     ]
    },
    {
     "name": "stderr",
     "output_type": "stream",
     "text": []
    },
    {
     "name": "stdout",
     "output_type": "stream",
     "text": [
      "current error: 3103.6123717083747\n"
     ]
    },
    {
     "name": "stderr",
     "output_type": "stream",
     "text": []
    },
    {
     "name": "stdout",
     "output_type": "stream",
     "text": [
      "current error: 3104.2694182026103\n"
     ]
    },
    {
     "name": "stderr",
     "output_type": "stream",
     "text": []
    },
    {
     "name": "stdout",
     "output_type": "stream",
     "text": [
      "current error: 3104.969802352276\n"
     ]
    },
    {
     "name": "stderr",
     "output_type": "stream",
     "text": []
    },
    {
     "name": "stdout",
     "output_type": "stream",
     "text": [
      "current error: 3105.7014537894675\n"
     ]
    },
    {
     "name": "stderr",
     "output_type": "stream",
     "text": []
    },
    {
     "name": "stdout",
     "output_type": "stream",
     "text": [
      "current error: 3106.454882999018\n"
     ]
    },
    {
     "name": "stderr",
     "output_type": "stream",
     "text": []
    },
    {
     "name": "stdout",
     "output_type": "stream",
     "text": [
      "current error: 3107.22256994456\n"
     ]
    },
    {
     "name": "stderr",
     "output_type": "stream",
     "text": []
    },
    {
     "name": "stdout",
     "output_type": "stream",
     "text": [
      "current error: 3107.9985179510295\n"
     ]
    },
    {
     "name": "stderr",
     "output_type": "stream",
     "text": []
    },
    {
     "name": "stdout",
     "output_type": "stream",
     "text": [
      "current error: 3108.7779226304046\n"
     ]
    },
    {
     "name": "stderr",
     "output_type": "stream",
     "text": []
    },
    {
     "name": "stdout",
     "output_type": "stream",
     "text": [
      "current error: 3109.5569223678685\n"
     ]
    },
    {
     "name": "stderr",
     "output_type": "stream",
     "text": []
    },
    {
     "name": "stdout",
     "output_type": "stream",
     "text": [
      "current error: 3110.3324076347794\n"
     ]
    },
    {
     "name": "stderr",
     "output_type": "stream",
     "text": []
    },
    {
     "name": "stdout",
     "output_type": "stream",
     "text": [
      "current error: 3111.1018734171867\n"
     ]
    },
    {
     "name": "stderr",
     "output_type": "stream",
     "text": []
    },
    {
     "name": "stdout",
     "output_type": "stream",
     "text": [
      "current error: 3111.863303716631\n"
     ]
    },
    {
     "name": "stderr",
     "output_type": "stream",
     "text": []
    },
    {
     "name": "stdout",
     "output_type": "stream",
     "text": [
      "current error: 3112.6150802356187\n"
     ]
    },
    {
     "name": "stderr",
     "output_type": "stream",
     "text": []
    },
    {
     "name": "stdout",
     "output_type": "stream",
     "text": [
      "current error: 3113.3559095300943\n"
     ]
    },
    {
     "name": "stderr",
     "output_type": "stream",
     "text": []
    },
    {
     "name": "stdout",
     "output_type": "stream",
     "text": [
      "current error: 3114.0847644248834\n"
     ]
    },
    {
     "name": "stderr",
     "output_type": "stream",
     "text": []
    },
    {
     "name": "stdout",
     "output_type": "stream",
     "text": [
      "current error: 3114.800836561294\n"
     ]
    },
    {
     "name": "stderr",
     "output_type": "stream",
     "text": []
    },
    {
     "name": "stdout",
     "output_type": "stream",
     "text": [
      "current error: 3115.5034977172318\n"
     ]
    },
    {
     "name": "stderr",
     "output_type": "stream",
     "text": []
    },
    {
     "name": "stdout",
     "output_type": "stream",
     "text": [
      "current error: 3116.1922681003934\n"
     ]
    },
    {
     "name": "stderr",
     "output_type": "stream",
     "text": []
    },
    {
     "name": "stdout",
     "output_type": "stream",
     "text": [
      "current error: 3116.8667902291345\n"
     ]
    },
    {
     "name": "stderr",
     "output_type": "stream",
     "text": []
    },
    {
     "name": "stdout",
     "output_type": "stream",
     "text": [
      "current error: 3117.526807323237\n"
     ]
    },
    {
     "name": "stderr",
     "output_type": "stream",
     "text": []
    },
    {
     "name": "stdout",
     "output_type": "stream",
     "text": [
      "current error: 3118.172145358917\n"
     ]
    },
    {
     "name": "stderr",
     "output_type": "stream",
     "text": []
    },
    {
     "name": "stdout",
     "output_type": "stream",
     "text": [
      "current error: 3118.8026981186786\n"
     ]
    },
    {
     "name": "stderr",
     "output_type": "stream",
     "text": []
    },
    {
     "name": "stdout",
     "output_type": "stream",
     "text": [
      "current error: 3119.4184147023166\n"
     ]
    },
    {
     "name": "stderr",
     "output_type": "stream",
     "text": []
    },
    {
     "name": "stdout",
     "output_type": "stream",
     "text": [
      "current error: 3120.0192890698345\n"
     ]
    },
    {
     "name": "stderr",
     "output_type": "stream",
     "text": []
    },
    {
     "name": "stdout",
     "output_type": "stream",
     "text": [
      "current error: 3120.605351269133\n"
     ]
    },
    {
     "name": "stderr",
     "output_type": "stream",
     "text": []
    },
    {
     "name": "stdout",
     "output_type": "stream",
     "text": [
      "current error: 3121.176660065237\n"
     ]
    },
    {
     "name": "stderr",
     "output_type": "stream",
     "text": []
    },
    {
     "name": "stdout",
     "output_type": "stream",
     "text": [
      "current error: 3121.7332967385405\n"
     ]
    },
    {
     "name": "stderr",
     "output_type": "stream",
     "text": []
    },
    {
     "name": "stdout",
     "output_type": "stream",
     "text": [
      "current error: 3122.275359859985\n"
     ]
    },
    {
     "name": "stderr",
     "output_type": "stream",
     "text": []
    },
    {
     "name": "stdout",
     "output_type": "stream",
     "text": [
      "current error: 3122.8029608828565\n"
     ]
    },
    {
     "name": "stderr",
     "output_type": "stream",
     "text": []
    },
    {
     "name": "stdout",
     "output_type": "stream",
     "text": [
      "current error: 3123.316220416707\n"
     ]
    },
    {
     "name": "stderr",
     "output_type": "stream",
     "text": []
    },
    {
     "name": "stdout",
     "output_type": "stream",
     "text": [
      "current error: 3123.8152650693582\n"
     ]
    },
    {
     "name": "stderr",
     "output_type": "stream",
     "text": []
    },
    {
     "name": "stdout",
     "output_type": "stream",
     "text": [
      "current error: 3124.3002247592385\n"
     ]
    },
    {
     "name": "stderr",
     "output_type": "stream",
     "text": []
    },
    {
     "name": "stdout",
     "output_type": "stream",
     "text": [
      "current error: 3124.771230413574\n"
     ]
    },
    {
     "name": "stderr",
     "output_type": "stream",
     "text": []
    },
    {
     "name": "stdout",
     "output_type": "stream",
     "text": [
      "current error: 3125.2284119783267\n"
     ]
    },
    {
     "name": "stderr",
     "output_type": "stream",
     "text": []
    },
    {
     "name": "stdout",
     "output_type": "stream",
     "text": [
      "current error: 3125.671896673609\n"
     ]
    },
    {
     "name": "stderr",
     "output_type": "stream",
     "text": []
    },
    {
     "name": "stdout",
     "output_type": "stream",
     "text": [
      "current error: 3126.101807435274\n"
     ]
    },
    {
     "name": "stderr",
     "output_type": "stream",
     "text": []
    },
    {
     "name": "stdout",
     "output_type": "stream",
     "text": [
      "current error: 3126.5182614873984\n"
     ]
    },
    {
     "name": "stderr",
     "output_type": "stream",
     "text": []
    },
    {
     "name": "stdout",
     "output_type": "stream",
     "text": [
      "current error: 3126.921368994289\n"
     ]
    },
    {
     "name": "stderr",
     "output_type": "stream",
     "text": [
      "Processing: 100%|█████████▉| 199/200 [4:18:43<01:18, 78.01s/it]\n"
     ]
    },
    {
     "name": "stdout",
     "output_type": "stream",
     "text": [
      "Accuracy: 14.41%\n"
     ]
    },
    {
     "data": {
      "image/png": "[encoded data removed]",
      "text/plain": [
       "<Figure size 640x480 with 1 Axes>"
      ]
     },
     "metadata": {},
     "output_type": "display_data"
    },
    {
     "data": {
      "image/png": "[encoded data removed]",
      "text/plain": [
       "<Figure size 640x480 with 1 Axes>"
      ]
     },
     "metadata": {},
     "output_type": "display_data"
    }
   ],
   "source": [
    "to_keep = ['exclamation_score', 'question_score', 'obj_score', 'afinn_score', 'vader_neu', 'vader_pos']\n",
    "\n",
    "mf = [\n",
    "    # exclamation_score\n",
    "    [['gaussmf', {'mean': 0.00, 'sigma': 0.23}],  # Low\n",
    "     ['gaussmf', {'mean': 0.07, 'sigma': 0.23}]],  # High\n",
    "\n",
    "    # question_score\n",
    "    [['gaussmf', {'mean': 0.00, 'sigma': 0.18}],  # Low\n",
    "     ['gaussmf', {'mean': 0.05, 'sigma': 0.18}]],  # High\n",
    "\n",
    "    # obj_score\n",
    "    [['gaussmf', {'mean': 0.68, 'sigma': 0.15}],  # Low\n",
    "     ['gaussmf', {'mean': 0.86, 'sigma': 0.15}]],  # High\n",
    "\n",
    "    # afinn_score\n",
    "    [['gaussmf', {'mean': -0.07, 'sigma': 0.33}],  # Negative\n",
    "     ['gaussmf', {'mean': 0.14, 'sigma': 0.33}]],  # Positive\n",
    "\n",
    "    # vader_neu\n",
    "    [['gaussmf', {'mean': 0.70, 'sigma': 0.17}],  # Neutral Low\n",
    "     ['gaussmf', {'mean': 0.90, 'sigma': 0.17}]],  # Neutral High\n",
    "\n",
    "    # vader_pos\n",
    "    [['gaussmf', {'mean': 0.05, 'sigma': 0.14}],  # Positive Low\n",
    "     ['gaussmf', {'mean': 0.18, 'sigma': 0.14}]]  # Positive High\n",
    "]\n",
    "\n",
    "# Subset the dataframe for input features\n",
    "fuzzy_data = processed_data[to_keep]\n",
    "\n",
    "# Mapping the target variable (Emotion) to numeric values\n",
    "mapping_dict = {value: index for index, value in enumerate(processed_data['Emotion'].unique())}\n",
    "processed_data['Emotion_mapped'] = processed_data['Emotion'].map(mapping_dict)\n",
    "\n",
    "# Input (X) and Target (Y) variables\n",
    "X = fuzzy_data.values\n",
    "Y = processed_data['Emotion_mapped'].values\n",
    "\n",
    "# Split the data into training and testing sets using train_test_split with stratification\n",
    "X_train, X_test, Y_train, Y_test = train_test_split(X, Y, test_size=0.2, stratify=Y, random_state=42)\n",
    "\n",
    "anfis_model, _ = doAnfis(X_train, X_test, Y_train, Y_test, 200, mf)"
   ]
  },
  {
   "cell_type": "code",
   "execution_count": 5,
   "metadata": {},
   "outputs": [
    {
     "name": "stderr",
     "output_type": "stream",
     "text": [
      "Processing:   0%|          | 0/25 [00:00<?, ?it/s]"
     ]
    },
    {
     "name": "stdout",
     "output_type": "stream",
     "text": [
      "current error: 2944.2087668602735\n"
     ]
    },
    {
     "name": "stderr",
     "output_type": "stream",
     "text": [
      "Processing:   4%|▍         | 1/25 [47:09<18:51:50, 2829.61s/it]"
     ]
    },
    {
     "name": "stdout",
     "output_type": "stream",
     "text": [
      "current error: 2952.1413253454\n"
     ]
    },
    {
     "name": "stderr",
     "output_type": "stream",
     "text": [
      "Processing:   8%|▊         | 2/25 [1:34:54<18:12:44, 2850.64s/it]"
     ]
    },
    {
     "name": "stdout",
     "output_type": "stream",
     "text": [
      "current error: 2960.396168045645\n"
     ]
    },
    {
     "name": "stderr",
     "output_type": "stream",
     "text": [
      "Processing:  12%|█▏        | 3/25 [2:22:45<17:28:29, 2859.51s/it]"
     ]
    },
    {
     "name": "stdout",
     "output_type": "stream",
     "text": [
      "current error: 2968.3621409359257\n"
     ]
    },
    {
     "name": "stderr",
     "output_type": "stream",
     "text": [
      "Processing:  16%|█▌        | 4/25 [3:10:37<16:42:40, 2864.79s/it]"
     ]
    },
    {
     "name": "stdout",
     "output_type": "stream",
     "text": [
      "current error: 2975.493446937623\n"
     ]
    },
    {
     "name": "stderr",
     "output_type": "stream",
     "text": [
      "Processing:  20%|██        | 5/25 [3:58:28<15:55:35, 2866.78s/it]"
     ]
    },
    {
     "name": "stdout",
     "output_type": "stream",
     "text": [
      "current error: 2981.4641266094195\n"
     ]
    },
    {
     "name": "stderr",
     "output_type": "stream",
     "text": [
      "Processing:  24%|██▍       | 6/25 [4:46:19<15:08:20, 2868.45s/it]"
     ]
    },
    {
     "name": "stdout",
     "output_type": "stream",
     "text": [
      "current error: 2986.266241248649\n"
     ]
    },
    {
     "name": "stderr",
     "output_type": "stream",
     "text": [
      "Processing:  28%|██▊       | 7/25 [5:34:04<14:20:09, 2867.18s/it]"
     ]
    },
    {
     "name": "stdout",
     "output_type": "stream",
     "text": [
      "current error: 2990.0921983095304\n"
     ]
    },
    {
     "name": "stderr",
     "output_type": "stream",
     "text": [
      "Processing:  32%|███▏      | 8/25 [6:21:38<13:31:11, 2863.06s/it]"
     ]
    },
    {
     "name": "stdout",
     "output_type": "stream",
     "text": [
      "current error: 2993.1562733813143\n"
     ]
    },
    {
     "name": "stderr",
     "output_type": "stream",
     "text": [
      "Processing:  36%|███▌      | 9/25 [7:09:36<12:44:42, 2867.63s/it]"
     ]
    },
    {
     "name": "stdout",
     "output_type": "stream",
     "text": [
      "current error: 2995.624557930308\n"
     ]
    },
    {
     "name": "stderr",
     "output_type": "stream",
     "text": [
      "Processing:  40%|████      | 10/25 [7:57:39<11:58:07, 2872.50s/it]"
     ]
    },
    {
     "name": "stdout",
     "output_type": "stream",
     "text": [
      "current error: 2997.6801999331838\n"
     ]
    },
    {
     "name": "stderr",
     "output_type": "stream",
     "text": [
      "Processing:  44%|████▍     | 11/25 [8:45:37<11:10:36, 2874.02s/it]"
     ]
    },
    {
     "name": "stdout",
     "output_type": "stream",
     "text": [
      "current error: 2999.590435565889\n"
     ]
    },
    {
     "name": "stderr",
     "output_type": "stream",
     "text": [
      "Processing:  48%|████▊     | 12/25 [9:33:50<10:23:58, 2879.86s/it]"
     ]
    },
    {
     "ename": "KeyboardInterrupt",
     "evalue": "",
     "output_type": "error",
     "traceback": [
      "\u001b[0;31m---------------------------------------------------------------------------\u001b[0m",
      "\u001b[0;31mKeyboardInterrupt\u001b[0m                         Traceback (most recent call last)",
      "Cell \u001b[0;32mIn[5], line 48\u001b[0m\n\u001b[1;32m     45\u001b[0m \u001b[38;5;66;03m# Split the data into training and testing sets using train_test_split with stratification\u001b[39;00m\n\u001b[1;32m     46\u001b[0m X_train, X_test, Y_train, Y_test \u001b[38;5;241m=\u001b[39m train_test_split(X, Y, test_size\u001b[38;5;241m=\u001b[39m\u001b[38;5;241m0.2\u001b[39m, stratify\u001b[38;5;241m=\u001b[39mY, random_state\u001b[38;5;241m=\u001b[39m\u001b[38;5;241m42\u001b[39m)\n\u001b[0;32m---> 48\u001b[0m anfis_model, _ \u001b[38;5;241m=\u001b[39m \u001b[43mdoAnfis\u001b[49m\u001b[43m(\u001b[49m\u001b[43mX_train\u001b[49m\u001b[43m,\u001b[49m\u001b[43m \u001b[49m\u001b[43mX_test\u001b[49m\u001b[43m,\u001b[49m\u001b[43m \u001b[49m\u001b[43mY_train\u001b[49m\u001b[43m,\u001b[49m\u001b[43m \u001b[49m\u001b[43mY_test\u001b[49m\u001b[43m,\u001b[49m\u001b[43m \u001b[49m\u001b[38;5;241;43m25\u001b[39;49m\u001b[43m,\u001b[49m\u001b[43m \u001b[49m\u001b[43mmf\u001b[49m\u001b[43m)\u001b[49m\n",
      "Cell \u001b[0;32mIn[2], line 7\u001b[0m, in \u001b[0;36mdoAnfis\u001b[0;34m(X_train, X_test, Y_train, Y_test, epochs, mf)\u001b[0m\n\u001b[1;32m      4\u001b[0m anf \u001b[38;5;241m=\u001b[39m ANFIS(X_train, Y_train, mfc)\n\u001b[1;32m      6\u001b[0m \u001b[38;5;66;03m# Train the ANFIS model\u001b[39;00m\n\u001b[0;32m----> 7\u001b[0m \u001b[43manf\u001b[49m\u001b[38;5;241;43m.\u001b[39;49m\u001b[43mtrainHybridJangOffLine\u001b[49m\u001b[43m(\u001b[49m\u001b[43mepochs\u001b[49m\u001b[38;5;241;43m=\u001b[39;49m\u001b[43mepochs\u001b[49m\u001b[43m)\u001b[49m\n\u001b[1;32m      9\u001b[0m \u001b[38;5;66;03m# Make predictions on the test set\u001b[39;00m\n\u001b[1;32m     10\u001b[0m predictions \u001b[38;5;241m=\u001b[39m predict(anf, X_test)\n",
      "File \u001b[0;32m~/Uwe-Group-Dissertation/code/anfis.py:71\u001b[0m, in \u001b[0;36mANFIS.trainHybridJangOffLine\u001b[0;34m(self, epochs, tolerance, initialGamma, k)\u001b[0m\n\u001b[1;32m     68\u001b[0m [layerFour, wSum, w] \u001b[38;5;241m=\u001b[39m forwardHalfPass(\u001b[38;5;28mself\u001b[39m, \u001b[38;5;28mself\u001b[39m\u001b[38;5;241m.\u001b[39mX)\n\u001b[1;32m     70\u001b[0m \u001b[38;5;66;03m#layer five: least squares estimate\u001b[39;00m\n\u001b[0;32m---> 71\u001b[0m layerFive \u001b[38;5;241m=\u001b[39m np\u001b[38;5;241m.\u001b[39marray(\u001b[38;5;28;43mself\u001b[39;49m\u001b[38;5;241;43m.\u001b[39;49m\u001b[43mLSE\u001b[49m\u001b[43m(\u001b[49m\u001b[43mlayerFour\u001b[49m\u001b[43m,\u001b[49m\u001b[38;5;28;43mself\u001b[39;49m\u001b[38;5;241;43m.\u001b[39;49m\u001b[43mY\u001b[49m\u001b[43m,\u001b[49m\u001b[43minitialGamma\u001b[49m\u001b[43m)\u001b[49m)\n\u001b[1;32m     72\u001b[0m \u001b[38;5;28mself\u001b[39m\u001b[38;5;241m.\u001b[39mconsequents \u001b[38;5;241m=\u001b[39m layerFive\n\u001b[1;32m     73\u001b[0m layerFive \u001b[38;5;241m=\u001b[39m np\u001b[38;5;241m.\u001b[39mdot(layerFour,layerFive)\n",
      "File \u001b[0;32m~/Uwe-Group-Dissertation/code/anfis.py:55\u001b[0m, in \u001b[0;36mANFIS.LSE\u001b[0;34m(self, A, B, initialGamma)\u001b[0m\n\u001b[1;32m     53\u001b[0m     a \u001b[38;5;241m=\u001b[39m coeffMat[i,:]\n\u001b[1;32m     54\u001b[0m     b \u001b[38;5;241m=\u001b[39m np\u001b[38;5;241m.\u001b[39marray(rhsMat[i])\n\u001b[0;32m---> 55\u001b[0m     S \u001b[38;5;241m=\u001b[39m S \u001b[38;5;241m-\u001b[39m (np\u001b[38;5;241m.\u001b[39marray(\u001b[43mnp\u001b[49m\u001b[38;5;241;43m.\u001b[39;49m\u001b[43mdot\u001b[49m\u001b[43m(\u001b[49m\u001b[43mnp\u001b[49m\u001b[38;5;241;43m.\u001b[39;49m\u001b[43mdot\u001b[49m\u001b[43m(\u001b[49m\u001b[43mnp\u001b[49m\u001b[38;5;241;43m.\u001b[39;49m\u001b[43mdot\u001b[49m\u001b[43m(\u001b[49m\u001b[43mS\u001b[49m\u001b[43m,\u001b[49m\u001b[43mnp\u001b[49m\u001b[38;5;241;43m.\u001b[39;49m\u001b[43mmatrix\u001b[49m\u001b[43m(\u001b[49m\u001b[43ma\u001b[49m\u001b[43m)\u001b[49m\u001b[38;5;241;43m.\u001b[39;49m\u001b[43mtranspose\u001b[49m\u001b[43m(\u001b[49m\u001b[43m)\u001b[49m\u001b[43m)\u001b[49m\u001b[43m,\u001b[49m\u001b[43mnp\u001b[49m\u001b[38;5;241;43m.\u001b[39;49m\u001b[43mmatrix\u001b[49m\u001b[43m(\u001b[49m\u001b[43ma\u001b[49m\u001b[43m)\u001b[49m\u001b[43m)\u001b[49m\u001b[43m,\u001b[49m\u001b[43mS\u001b[49m\u001b[43m)\u001b[49m))\u001b[38;5;241m/\u001b[39m(\u001b[38;5;241m1\u001b[39m\u001b[38;5;241m+\u001b[39m(np\u001b[38;5;241m.\u001b[39mdot(np\u001b[38;5;241m.\u001b[39mdot(S,a),a)))\n\u001b[1;32m     56\u001b[0m     x \u001b[38;5;241m=\u001b[39m x \u001b[38;5;241m+\u001b[39m (np\u001b[38;5;241m.\u001b[39mdot(S,np\u001b[38;5;241m.\u001b[39mdot(np\u001b[38;5;241m.\u001b[39mmatrix(a)\u001b[38;5;241m.\u001b[39mtranspose(),(np\u001b[38;5;241m.\u001b[39mmatrix(b)\u001b[38;5;241m-\u001b[39mnp\u001b[38;5;241m.\u001b[39mdot(np\u001b[38;5;241m.\u001b[39mmatrix(a),x)))))\n\u001b[1;32m     57\u001b[0m \u001b[38;5;28;01mreturn\u001b[39;00m x\n",
      "\u001b[0;31mKeyboardInterrupt\u001b[0m: "
     ]
    }
   ],
   "source": [
    "# # Features to keep for the fuzzy system\n",
    "# to_keep = ['exclamation_score', 'question_score', 'ellipsis_score', 'obj_score', 'afinn_score', 'irony_score', 'vader_neg', 'vader_neu', 'vader_pos']\n",
    "\n",
    "# mf = [\n",
    "#     # exclamation_score\n",
    "#     [['gaussmf', {'mean': 0.00, 'sigma': 0.23}],\n",
    "#      ['gaussmf', {'mean': 0.07, 'sigma': 0.23}]],\n",
    "#     # question_score\n",
    "#     [['gaussmf', {'mean': 0.00, 'sigma': 0.18}],\n",
    "#      ['gaussmf', {'mean': 0.05, 'sigma': 0.18}]],\n",
    "#     # ellipsis_score\n",
    "#     [['gaussmf', {'mean': 0.00, 'sigma': 0.08}],\n",
    "#      ['gaussmf', {'mean': 0.02, 'sigma': 0.08}]],\n",
    "#     # obj_score\n",
    "#     [['gaussmf', {'mean': 0.68, 'sigma': 0.15}],\n",
    "#      ['gaussmf', {'mean': 0.86, 'sigma': 0.15}]],\n",
    "#     # afinn_score\n",
    "#     [['gaussmf', {'mean': -0.07, 'sigma': 0.33}],\n",
    "#      ['gaussmf', {'mean': 0.14, 'sigma': 0.33}]],\n",
    "#     # irony_score\n",
    "#     [['gaussmf', {'mean': 0.10, 'sigma': 0.23}],\n",
    "#      ['gaussmf', {'mean': 0.45, 'sigma': 0.23}]],\n",
    "#     # vader_neg\n",
    "#     [['gaussmf', {'mean': 0.05, 'sigma': 0.12}],\n",
    "#      ['gaussmf', {'mean': 0.13, 'sigma': 0.12}]],\n",
    "#     # vader_neu\n",
    "#     [['gaussmf', {'mean': 0.7, 'sigma': 0.17}],\n",
    "#      ['gaussmf', {'mean': 0.9, 'sigma': 0.17}]],\n",
    "#     # vader_pos\n",
    "#     [['gaussmf', {'mean': 0.05, 'sigma': 0.14}],\n",
    "#      ['gaussmf', {'mean': 0.18, 'sigma': 0.14}]]\n",
    "# ]\n",
    "\n",
    "# # Subset the dataframe for input features\n",
    "# fuzzy_data = processed_data[to_keep]\n",
    "\n",
    "# # Mapping the target variable (Emotion) to numeric values\n",
    "# mapping_dict = {value: index for index, value in enumerate(processed_data['Emotion'].unique())}\n",
    "# processed_data['Emotion_mapped'] = processed_data['Emotion'].map(mapping_dict)\n",
    "\n",
    "# # Input (X) and Target (Y) variables\n",
    "# X = fuzzy_data.values\n",
    "# Y = processed_data['Emotion_mapped'].values\n",
    "\n",
    "# # Split the data into training and testing sets using train_test_split with stratification\n",
    "# X_train, X_test, Y_train, Y_test = train_test_split(X, Y, test_size=0.2, stratify=Y, random_state=42)\n",
    "\n",
    "# anfis_model, _ = doAnfis(X_train, X_test, Y_train, Y_test, 25, mf)"
   ]
  },
  {
   "cell_type": "code",
   "execution_count": 13,
   "metadata": {},
   "outputs": [
    {
     "name": "stderr",
     "output_type": "stream",
     "text": []
    },
    {
     "name": "stdout",
     "output_type": "stream",
     "text": [
      "current error: 3211.2936538801905\n"
     ]
    },
    {
     "name": "stderr",
     "output_type": "stream",
     "text": []
    },
    {
     "name": "stdout",
     "output_type": "stream",
     "text": [
      "current error: 3207.0980859356596\n"
     ]
    },
    {
     "name": "stderr",
     "output_type": "stream",
     "text": []
    },
    {
     "name": "stdout",
     "output_type": "stream",
     "text": [
      "current error: 3199.986772316126\n"
     ]
    },
    {
     "name": "stderr",
     "output_type": "stream",
     "text": []
    },
    {
     "name": "stdout",
     "output_type": "stream",
     "text": [
      "current error: 3189.52437223615\n"
     ]
    },
    {
     "name": "stderr",
     "output_type": "stream",
     "text": []
    },
    {
     "name": "stdout",
     "output_type": "stream",
     "text": [
      "current error: 3173.1386172757366\n"
     ]
    },
    {
     "name": "stderr",
     "output_type": "stream",
     "text": []
    },
    {
     "name": "stdout",
     "output_type": "stream",
     "text": [
      "current error: 3155.9327722438816\n"
     ]
    },
    {
     "name": "stderr",
     "output_type": "stream",
     "text": []
    },
    {
     "name": "stdout",
     "output_type": "stream",
     "text": [
      "current error: 3117.6367526380945\n"
     ]
    },
    {
     "name": "stderr",
     "output_type": "stream",
     "text": [
      "Processing:  88%|████████▊ | 7/8 [10:52<01:33, 93.15s/it]\n"
     ]
    },
    {
     "name": "stdout",
     "output_type": "stream",
     "text": [
      "Accuracy: 15.77%\n"
     ]
    },
    {
     "data": {
      "image/png": "[encoded data removed]",
      "text/plain": [
       "<Figure size 640x480 with 1 Axes>"
      ]
     },
     "metadata": {},
     "output_type": "display_data"
    },
    {
     "data": {
      "image/png": "[encoded data removed]",
      "text/plain": [
       "<Figure size 640x480 with 1 Axes>"
      ]
     },
     "metadata": {},
     "output_type": "display_data"
    },
    {
     "data": {
      "image/png": "[encoded data removed]",
      "text/plain": [
       "<Figure size 1000x700 with 2 Axes>"
      ]
     },
     "metadata": {},
     "output_type": "display_data"
    }
   ],
   "source": [
    "anfis_model_2, predictions_2 = doAnfis(X_train, X_test, Y_train, Y_test, 9, mf)\n",
    "\n",
    "cm = confusion_matrix(Y_test, predictions_2)\n",
    "\n",
    "plt.figure(figsize=(10, 7))\n",
    "sns.heatmap(cm, annot=True, fmt=\"d\", cmap=\"Blues\", xticklabels=mapping_dict.keys(), yticklabels=mapping_dict.keys())\n",
    "plt.ylabel('Actual')\n",
    "plt.xlabel('Predicted')\n",
    "plt.title('Confusion Matrix')\n",
    "plt.show()\n",
    "\n"
   ]
  },
  {
   "cell_type": "code",
   "execution_count": 30,
   "metadata": {},
   "outputs": [
    {
     "name": "stdout",
     "output_type": "stream",
     "text": [
      "1858\n"
     ]
    }
   ],
   "source": [
    "max_len = processed_data['tokens'].apply(len).max()\n",
    "print(max_len)"
   ]
  },
  {
   "cell_type": "code",
   "execution_count": 29,
   "metadata": {},
   "outputs": [
    {
     "data": {
      "image/png": "[encoded data removed]",
      "text/plain": [
       "<Figure size 1000x600 with 1 Axes>"
      ]
     },
     "metadata": {},
     "output_type": "display_data"
    }
   ],
   "source": [
    "# Assuming Y_test is a NumPy array, get the original indices from the test set\n",
    "test_indices = processed_data.index[X_train.shape[0]:]  # Assuming the data was split sequentially\n",
    "\n",
    "# Find indices of correct and incorrect predictions\n",
    "correct_indices = np.where(predictions_2 == Y_test)[0]\n",
    "incorrect_indices = np.where(predictions_2 != Y_test)[0]\n",
    "\n",
    "# Use the test indices to map back to the processed_data dataframe\n",
    "correct_test_indices = test_indices[correct_indices]\n",
    "incorrect_test_indices = test_indices[incorrect_indices]\n",
    "\n",
    "# Get the lengths of 'Text' for correct and incorrect predictions\n",
    "correct_text_lengths = processed_data.loc[correct_test_indices, 'tokens'].apply(len)\n",
    "incorrect_text_lengths = processed_data.loc[incorrect_test_indices, 'tokens'].apply(len)\n",
    "\n",
    "# Define the bin edges for the text lengths\n",
    "bins = np.linspace(0, max(processed_data['tokens'].apply(len)), 50)\n",
    "\n",
    "# Prepare the data for the histogram\n",
    "correct_hist, _ = np.histogram(correct_text_lengths, bins=bins)\n",
    "incorrect_hist, _ = np.histogram(incorrect_text_lengths, bins=bins)\n",
    "\n",
    "# Create the plot with stacked bars\n",
    "plt.figure(figsize=(10, 6))\n",
    "\n",
    "# Plot histograms stacked on top of each other, similar to the uploaded example\n",
    "plt.hist([correct_text_lengths, incorrect_text_lengths], bins=bins, stacked=True,\n",
    "         label=['Correct', 'Incorrect'], color=['#4CAF50', '#F44336'], edgecolor='black')\n",
    "\n",
    "# Add labels and title\n",
    "plt.xlabel('Number of Words')\n",
    "plt.ylabel('Frequency')\n",
    "plt.title('Distribution of Word Counts by Prediction Accuracy')\n",
    "plt.legend()\n",
    "\n",
    "# Show the plot\n",
    "plt.show()"
   ]
  },
  {
   "cell_type": "markdown",
   "metadata": {},
   "source": [
    "Why a Mix of MFs Can Be Beneficial:\n",
    "sigmf:\n",
    "Ideal for sharp transitions or binary-like variables (e.g., \"none\" vs. \"some\").\n",
    "Use when you want to model a sudden shift from one state to another (e.g., exclamations going from 0 to higher values).\n",
    "gaussmf:\n",
    "Well-suited for variables with a continuous, smooth, symmetric distribution (e.g., objective scores, joy scores).\n",
    "Works well for cases where the spread of the data is relatively consistent.\n",
    "gbellmf:\n",
    "Offers flexibility in controlling both the steepness and spread of the MF, making it useful for features where the transition is gradual but not perfectly symmetrical.\n",
    "Use this when you need finer control over how quickly a variable transitions from low to high, especially when the data shows asymmetry or varying slopes in different regions.\n",
    "Revisiting Your Data Table and Potential MF Mix:\n",
    "Let’s analyze the data and determine where each MF type would be most appropriate.\n",
    "\n",
    "Data Summary:\n",
    "\n",
    "| Feature | Description | Potential MF Type |\n",
    "| -------- | ------- | ------- |\n",
    "|exclamation_score | Most data is clustered at 0, with occasional high values | sigmf for sharp transition from none to some |\n",
    "|question_score | Most data at 0, but occasional jumps to higher values | sigmf or gbellmf for smooth transition |\n",
    "|obj_score | Relatively continuous data between 0.68 and 1 | gaussmf for smooth continuous modeling |\n",
    "|joy_score | Data primarily at 0, but extends towards 1 | sigmf for the 0-to-some transition and gaussmf for the upper range |\n",
    "|vader_neg | Some data near 0 with gradual increase to 1 | gbellmf or gaussmf to handle gradual transitions |\n",
    "|vader_pos | Similar to vader_neg, mostly low values but gradual increase to 1 | gbellmf for flexibility in transition | \n",
    "\n",
    "\n",
    "\n",
    "exclamation_score (sigmf):\n",
    "Since the data is mostly 0 but jumps to higher values, a sharp transition is appropriate here.\n",
    "\n",
    "question_score (sigmf or gbellmf):\n",
    "Similar to exclamation_score, but if the transition isn’t as sharp, a gbellmf can provide more control over how smooth the transition is.\n",
    "\n",
    "obj_score (gaussmf):\n",
    "Since the data has a continuous spread, a gaussmf is well-suited for modeling this smoothly.\n",
    "\n",
    "joy_score (sigmf + gaussmf):\n",
    "Most data is 0, so a sigmf can handle the sharp transition from no joy to some joy, followed by a gaussmf for modeling the upper end of the distribution.\n",
    "\n",
    "vader_neg (gbellmf or gaussmf):\n",
    "Since there’s a gradual increase from neutral to strong negativity, a gbellmf can give you more control over the transition, but a gaussmf may work too if the data is smooth enough.\n",
    "\n",
    "vader_pos (gbellmf):\n",
    "Same rationale as vader_neg—gradual transition from neutral to positive sentiment, best modeled with a gbellmf for flexibility.\n"
   ]
  },
  {
   "cell_type": "markdown",
   "metadata": {},
   "source": [
    "Based on the summary statistics we created for each of the six features, we can tailor the membership functions (MFs) for the fuzzy system. The goal is to capture the distribution of each feature effectively by setting appropriate mean and sigma values for Gaussian membership functions.\n",
    "\n",
    "\n",
    "\t    exclamation_score\tquestion_score\tobj_score\tjoy_score\tvader_neg\tvader_pos\n",
    "count\t1110.000000\t        1110.000000\t    1110.000000\t1110.000000\t1110.000000\t1110.000000\n",
    "mean\t0.065042\t        0.042836\t    0.764637\t0.044619\t0.086072\t0.123200\n",
    "std\t    0.231353\t        0.184856\t    0.146033\t0.085424\t0.119278\t0.137306\n",
    "min\t    0.000000\t        0.000000\t    0.000000\t0.000000\t0.000000\t0.000000\n",
    "25%\t    0.000000\t        0.000000\t    0.680783\t0.000000\t0.000000\t0.000000\n",
    "50%\t    0.000000\t        0.000000\t    0.775212\t0.000000\t0.046000\t0.099000\n",
    "75%\t    0.000000\t        0.013289\t    0.861111\t0.064516\t0.131000\t0.177750\n",
    "max\t    3.000000\t        4.000000\t    1.000000\t1.000000\t1.000000\t1.000000\n",
    "\n",
    "\n",
    "General Approach:\n",
    "Mean (mean): Set based on typical values such as quartiles or based on the distribution's central tendency (e.g., mean or median).\n",
    "Sigma (sigma): Set based on the spread of the data, using standard deviation or a fraction of the feature range.\n",
    "\n",
    "\n",
    "1. exclamation_score\n",
    "Range: [0, 3] with most data around 0 (75% of the data has a value of 0).\n",
    "Mean: You might consider separating between \"no exclamations\" and \"has exclamations\". Set one MF around 0 for the bulk of the data and another around the mean or a higher value for rare instances of multiple exclamations.\n",
    "Sigma: Based on the standard deviation (0.23), choose a moderate width for the Gaussians.\n",
    "\n",
    "2. question_score\n",
    "Range: [0, 4], with most data around 0 (median and 75% are 0).\n",
    "Mean: Similar to exclamation_score, most data is 0. So, you can have one MF around 0 and another around the mean or a larger value.\n",
    "Sigma: The standard deviation is 0.18, so the spread should reflect this.\n",
    "\n",
    "3. obj_score\n",
    "Range: [0, 1], with mean 0.76, most data between 0.68 and 0.86.\n",
    "Mean: Since this feature seems to be concentrated in the higher range (close to 1), you could have MFs representing low, medium, and high scores.\n",
    "Sigma: With a standard deviation of 0.15, MFs should have moderate overlap.\n",
    "\n",
    "4. joy_score\n",
    "Range: [0, 1], with most data clustered around 0 (50% of the data is 0, mean is 0.044).\n",
    "Mean: You can have one MF for \"no joy\" around 0 and another for \"presence of joy\" closer to 1.\n",
    "Sigma: Standard deviation is 0.085, so use small spread.\n",
    "\n",
    "5. vader_neg (Negative sentiment)\n",
    "Range: [0, 1], with most data concentrated at 0, but there's a small tail up to 1.\n",
    "Mean: Have one MF around 0 for neutral sentiment, and another for stronger negative sentiment around 1.\n",
    "Sigma: Standard deviation is 0.12, so a relatively narrow spread can be used.\n",
    "\n",
    "6. vader_pos (Positive sentiment)\n",
    "Range: [0, 1], mean is 0.12, with most data below 0.18.\n",
    "Mean: Have one MF for neutral sentiment around 0, and another for positive sentiment closer to 1.\n",
    "Sigma: Similar to vader_neg, standard deviation is 0.14, so a narrow spread can be used.\n",
    "\n",
    "Explanation:\n",
    "exclamation_score and question_score: Since most values are 0, we use two MFs to separate \"no exclamation/question\" from \"some exclamations/questions\".\n",
    "obj_score: A higher range, and since values cluster around 0.76, we have three MFs representing low, medium, and high objectivity.\n",
    "joy_score, vader_neg, and vader_pos: These use two or three MFs to represent \"none\", \"some\", and \"strong\" joy/negativity/positivity.\n",
    "This setup gives a good balance between capturing the typical range and outliers in your dataset."
   ]
  }
 ],
 "metadata": {
  "kernelspec": {
   "display_name": "Python 3",
   "language": "python",
   "name": "python3"
  },
  "language_info": {
   "codemirror_mode": {
    "name": "ipython",
    "version": 3
   },
   "file_extension": ".py",
   "mimetype": "text/x-python",
   "name": "python",
   "nbconvert_exporter": "python",
   "pygments_lexer": "ipython3",
   "version": "3.10.4"
  }
 },
 "nbformat": 4,
 "nbformat_minor": 2
}
