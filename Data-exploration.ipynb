{
 "cells": [
  {
   "cell_type": "code",
   "execution_count": 1,
   "metadata": {},
   "outputs": [],
   "source": [
    "import pandas as pd\n",
    "import numpy as np\n",
    "from sklearn.feature_extraction.text import TfidfVectorizer\n",
    "from sklearn.cluster import KMeans\n",
    "from sklearn.decomposition import PCA\n",
    "import matplotlib.pyplot as plt\n",
    "import pandas as pd\n",
    "import seaborn as sns\n",
    "import matplotlib.pyplot as plt\n",
    "from sklearn.preprocessing import MinMaxScaler\n",
    "import numpy as np\n",
    "\n",
    "## MAKE A CNN\n"
   ]
  },
  {
   "cell_type": "code",
   "execution_count": 4,
   "metadata": {},
   "outputs": [],
   "source": [
    "malta_loc_18 = '/Users/alex/Library/Mobile Documents/com~apple~CloudDocs/UWE/Masters/Group Project/Data/Malta-Budget-2018-dataset-v1.csv'\n",
    "malta_loc_19 = '/Users/alex/Library/Mobile Documents/com~apple~CloudDocs/UWE/Masters/Group Project/Data/Malta-Budget-2019-dataset-v1.csv'\n",
    "malta_loc_20 = '/Users/alex/Library/Mobile Documents/com~apple~CloudDocs/UWE/Masters/Group Project/Data/Malta-Budget-2020-dataset-v1.csv'\n",
    "\n",
    "malta_data_18 = pd.read_csv(malta_loc_18)\n",
    "malta_data_19 = pd.read_csv(malta_loc_19)\n",
    "malta_data_20 = pd.read_csv(malta_loc_20)"
   ]
  },
  {
   "cell_type": "code",
   "execution_count": 8,
   "metadata": {},
   "outputs": [
    {
     "name": "stdout",
     "output_type": "stream",
     "text": [
      "<class 'pandas.core.frame.DataFrame'>\n",
      "RangeIndex: 2142 entries, 0 to 2141\n",
      "Data columns (total 13 columns):\n",
      " #   Column                  Non-Null Count  Dtype  \n",
      "---  ------                  --------------  -----  \n",
      " 0   Online Post ID          2142 non-null   int64  \n",
      " 1   Twitter ID              1673 non-null   float64\n",
      " 2   Related Online Post ID  333 non-null    float64\n",
      " 3   Source ID               2142 non-null   object \n",
      " 4   Online Post Text        469 non-null    object \n",
      " 5   Subjectivity            2142 non-null   int64  \n",
      " 6   Sentiment Polarity      2142 non-null   object \n",
      " 7   Emotion                 2142 non-null   object \n",
      " 8   Sarcasm                 2142 non-null   int64  \n",
      " 9   Irony                   2142 non-null   int64  \n",
      " 10  Negation                2142 non-null   int64  \n",
      " 11  Off-topic               2142 non-null   int64  \n",
      " 12  Language                2142 non-null   int64  \n",
      "dtypes: float64(2), int64(7), object(4)\n",
      "memory usage: 217.7+ KB\n"
     ]
    }
   ],
   "source": [
    "malta_data_18.info()"
   ]
  },
  {
   "cell_type": "code",
   "execution_count": 9,
   "metadata": {},
   "outputs": [
    {
     "name": "stdout",
     "output_type": "stream",
     "text": [
      "<class 'pandas.core.frame.DataFrame'>\n",
      "RangeIndex: 2316 entries, 0 to 2315\n",
      "Data columns (total 13 columns):\n",
      " #   Column                  Non-Null Count  Dtype  \n",
      "---  ------                  --------------  -----  \n",
      " 0   Online Post ID          2316 non-null   int64  \n",
      " 1   Twitter ID              1677 non-null   float64\n",
      " 2   Related Online Post ID  448 non-null    float64\n",
      " 3   Source ID               2316 non-null   object \n",
      " 4   Online Post Text        639 non-null    object \n",
      " 5   Subjectivity            2316 non-null   int64  \n",
      " 6   Sentiment Polarity      2316 non-null   object \n",
      " 7   Emotion                 2316 non-null   object \n",
      " 8   Sarcasm                 2316 non-null   int64  \n",
      " 9   Irony                   2316 non-null   int64  \n",
      " 10  Negation                2316 non-null   int64  \n",
      " 11  Off-topic               2316 non-null   int64  \n",
      " 12  Language                2316 non-null   int64  \n",
      "dtypes: float64(2), int64(7), object(4)\n",
      "memory usage: 235.3+ KB\n"
     ]
    }
   ],
   "source": [
    "malta_data_19.info()"
   ]
  },
  {
   "cell_type": "code",
   "execution_count": 10,
   "metadata": {},
   "outputs": [
    {
     "name": "stdout",
     "output_type": "stream",
     "text": [
      "<class 'pandas.core.frame.DataFrame'>\n",
      "RangeIndex: 1929 entries, 0 to 1928\n",
      "Data columns (total 13 columns):\n",
      " #   Column                  Non-Null Count  Dtype  \n",
      "---  ------                  --------------  -----  \n",
      " 0   Online Post ID          1929 non-null   int64  \n",
      " 1   Twitter ID              1314 non-null   float64\n",
      " 2   Related Online Post ID  396 non-null    float64\n",
      " 3   Source ID               1929 non-null   object \n",
      " 4   Online Post Text        615 non-null    object \n",
      " 5   Subjectivity            1929 non-null   int64  \n",
      " 6   Sentiment Polarity      1929 non-null   object \n",
      " 7   Emotion                 1929 non-null   object \n",
      " 8   Sarcasm                 1929 non-null   int64  \n",
      " 9   Irony                   1929 non-null   int64  \n",
      " 10  Negation                1929 non-null   int64  \n",
      " 11  Off-topic               1929 non-null   int64  \n",
      " 12  Language                1929 non-null   int64  \n",
      "dtypes: float64(2), int64(7), object(4)\n",
      "memory usage: 196.0+ KB\n"
     ]
    }
   ],
   "source": [
    "malta_data_20.info()"
   ]
  },
  {
   "cell_type": "code",
   "execution_count": 11,
   "metadata": {},
   "outputs": [
    {
     "data": {
      "text/html": [
       "<div>\n",
       "<style scoped>\n",
       "    .dataframe tbody tr th:only-of-type {\n",
       "        vertical-align: middle;\n",
       "    }\n",
       "\n",
       "    .dataframe tbody tr th {\n",
       "        vertical-align: top;\n",
       "    }\n",
       "\n",
       "    .dataframe thead th {\n",
       "        text-align: right;\n",
       "    }\n",
       "</style>\n",
       "<table border=\"1\" class=\"dataframe\">\n",
       "  <thead>\n",
       "    <tr style=\"text-align: right;\">\n",
       "      <th></th>\n",
       "      <th>Online Post ID</th>\n",
       "      <th>Twitter ID</th>\n",
       "      <th>Related Online Post ID</th>\n",
       "      <th>Source ID</th>\n",
       "      <th>Online Post Text</th>\n",
       "      <th>Subjectivity</th>\n",
       "      <th>Sentiment Polarity</th>\n",
       "      <th>Emotion</th>\n",
       "      <th>Sarcasm</th>\n",
       "      <th>Irony</th>\n",
       "      <th>Negation</th>\n",
       "      <th>Off-topic</th>\n",
       "      <th>Language</th>\n",
       "    </tr>\n",
       "  </thead>\n",
       "  <tbody>\n",
       "    <tr>\n",
       "      <th>0</th>\n",
       "      <td>20180001</td>\n",
       "      <td>NaN</td>\n",
       "      <td>NaN</td>\n",
       "      <td>N-1-2018</td>\n",
       "      <td>Great BUDGET . Even cigarettes were not touche...</td>\n",
       "      <td>1</td>\n",
       "      <td>positive</td>\n",
       "      <td>trust</td>\n",
       "      <td>0</td>\n",
       "      <td>0</td>\n",
       "      <td>1</td>\n",
       "      <td>0</td>\n",
       "      <td>0</td>\n",
       "    </tr>\n",
       "    <tr>\n",
       "      <th>1</th>\n",
       "      <td>20180002</td>\n",
       "      <td>NaN</td>\n",
       "      <td>20180001.0</td>\n",
       "      <td>N-1-2018</td>\n",
       "      <td>I haven't exactly scanned the budget throughou...</td>\n",
       "      <td>1</td>\n",
       "      <td>negative</td>\n",
       "      <td>disgust</td>\n",
       "      <td>0</td>\n",
       "      <td>0</td>\n",
       "      <td>1</td>\n",
       "      <td>0</td>\n",
       "      <td>0</td>\n",
       "    </tr>\n",
       "    <tr>\n",
       "      <th>2</th>\n",
       "      <td>20180003</td>\n",
       "      <td>NaN</td>\n",
       "      <td>20180002.0</td>\n",
       "      <td>N-1-2018</td>\n",
       "      <td>There’s already smoking cessation programs for...</td>\n",
       "      <td>1</td>\n",
       "      <td>neutral</td>\n",
       "      <td>anticipation</td>\n",
       "      <td>0</td>\n",
       "      <td>0</td>\n",
       "      <td>0</td>\n",
       "      <td>0</td>\n",
       "      <td>0</td>\n",
       "    </tr>\n",
       "    <tr>\n",
       "      <th>3</th>\n",
       "      <td>20180004</td>\n",
       "      <td>NaN</td>\n",
       "      <td>20180003.0</td>\n",
       "      <td>N-1-2018</td>\n",
       "      <td>So should alcohol and fuel for private vehicle...</td>\n",
       "      <td>1</td>\n",
       "      <td>negative</td>\n",
       "      <td>sadness</td>\n",
       "      <td>0</td>\n",
       "      <td>0</td>\n",
       "      <td>0</td>\n",
       "      <td>0</td>\n",
       "      <td>0</td>\n",
       "    </tr>\n",
       "    <tr>\n",
       "      <th>4</th>\n",
       "      <td>20180005</td>\n",
       "      <td>NaN</td>\n",
       "      <td>20180004.0</td>\n",
       "      <td>N-1-2018</td>\n",
       "      <td>Practical? You should say that in a third worl...</td>\n",
       "      <td>1</td>\n",
       "      <td>negative</td>\n",
       "      <td>anger</td>\n",
       "      <td>0</td>\n",
       "      <td>0</td>\n",
       "      <td>1</td>\n",
       "      <td>0</td>\n",
       "      <td>0</td>\n",
       "    </tr>\n",
       "  </tbody>\n",
       "</table>\n",
       "</div>"
      ],
      "text/plain": [
       "   Online Post ID  Twitter ID  Related Online Post ID Source ID  \\\n",
       "0        20180001         NaN                     NaN  N-1-2018   \n",
       "1        20180002         NaN              20180001.0  N-1-2018   \n",
       "2        20180003         NaN              20180002.0  N-1-2018   \n",
       "3        20180004         NaN              20180003.0  N-1-2018   \n",
       "4        20180005         NaN              20180004.0  N-1-2018   \n",
       "\n",
       "                                    Online Post Text  Subjectivity  \\\n",
       "0  Great BUDGET . Even cigarettes were not touche...             1   \n",
       "1  I haven't exactly scanned the budget throughou...             1   \n",
       "2  There’s already smoking cessation programs for...             1   \n",
       "3  So should alcohol and fuel for private vehicle...             1   \n",
       "4  Practical? You should say that in a third worl...             1   \n",
       "\n",
       "  Sentiment Polarity       Emotion  Sarcasm  Irony  Negation  Off-topic  \\\n",
       "0           positive         trust        0      0         1          0   \n",
       "1           negative       disgust        0      0         1          0   \n",
       "2            neutral  anticipation        0      0         0          0   \n",
       "3           negative       sadness        0      0         0          0   \n",
       "4           negative         anger        0      0         1          0   \n",
       "\n",
       "   Language  \n",
       "0         0  \n",
       "1         0  \n",
       "2         0  \n",
       "3         0  \n",
       "4         0  "
      ]
     },
     "execution_count": 11,
     "metadata": {},
     "output_type": "execute_result"
    }
   ],
   "source": [
    "malta_data_18.head()"
   ]
  },
  {
   "cell_type": "code",
   "execution_count": 12,
   "metadata": {},
   "outputs": [
    {
     "data": {
      "text/html": [
       "<div>\n",
       "<style scoped>\n",
       "    .dataframe tbody tr th:only-of-type {\n",
       "        vertical-align: middle;\n",
       "    }\n",
       "\n",
       "    .dataframe tbody tr th {\n",
       "        vertical-align: top;\n",
       "    }\n",
       "\n",
       "    .dataframe thead th {\n",
       "        text-align: right;\n",
       "    }\n",
       "</style>\n",
       "<table border=\"1\" class=\"dataframe\">\n",
       "  <thead>\n",
       "    <tr style=\"text-align: right;\">\n",
       "      <th></th>\n",
       "      <th>Online Post ID</th>\n",
       "      <th>Twitter ID</th>\n",
       "      <th>Related Online Post ID</th>\n",
       "      <th>Source ID</th>\n",
       "      <th>Online Post Text</th>\n",
       "      <th>Subjectivity</th>\n",
       "      <th>Sentiment Polarity</th>\n",
       "      <th>Emotion</th>\n",
       "      <th>Sarcasm</th>\n",
       "      <th>Irony</th>\n",
       "      <th>Negation</th>\n",
       "      <th>Off-topic</th>\n",
       "      <th>Language</th>\n",
       "    </tr>\n",
       "  </thead>\n",
       "  <tbody>\n",
       "    <tr>\n",
       "      <th>0</th>\n",
       "      <td>20190001</td>\n",
       "      <td>NaN</td>\n",
       "      <td>NaN</td>\n",
       "      <td>N-1-2019</td>\n",
       "      <td>Does that mean that if my home rent doubled in...</td>\n",
       "      <td>1</td>\n",
       "      <td>negative</td>\n",
       "      <td>sadness</td>\n",
       "      <td>0</td>\n",
       "      <td>1</td>\n",
       "      <td>0</td>\n",
       "      <td>0</td>\n",
       "      <td>0</td>\n",
       "    </tr>\n",
       "    <tr>\n",
       "      <th>1</th>\n",
       "      <td>20190002</td>\n",
       "      <td>NaN</td>\n",
       "      <td>20190001.0</td>\n",
       "      <td>N-1-2019</td>\n",
       "      <td>Of course he will. And he'll get every landlor...</td>\n",
       "      <td>1</td>\n",
       "      <td>negative</td>\n",
       "      <td>anger</td>\n",
       "      <td>0</td>\n",
       "      <td>1</td>\n",
       "      <td>0</td>\n",
       "      <td>0</td>\n",
       "      <td>0</td>\n",
       "    </tr>\n",
       "    <tr>\n",
       "      <th>2</th>\n",
       "      <td>20190003</td>\n",
       "      <td>NaN</td>\n",
       "      <td>20190001.0</td>\n",
       "      <td>N-1-2019</td>\n",
       "      <td>Typical entitlement, benefit-seeking mentality...</td>\n",
       "      <td>1</td>\n",
       "      <td>positive</td>\n",
       "      <td>disgust</td>\n",
       "      <td>0</td>\n",
       "      <td>0</td>\n",
       "      <td>0</td>\n",
       "      <td>1</td>\n",
       "      <td>0</td>\n",
       "    </tr>\n",
       "    <tr>\n",
       "      <th>3</th>\n",
       "      <td>20190004</td>\n",
       "      <td>NaN</td>\n",
       "      <td>20190003.0</td>\n",
       "      <td>N-1-2019</td>\n",
       "      <td>What are you talking about? Everything has inc...</td>\n",
       "      <td>1</td>\n",
       "      <td>negative</td>\n",
       "      <td>anticipation</td>\n",
       "      <td>0</td>\n",
       "      <td>1</td>\n",
       "      <td>0</td>\n",
       "      <td>0</td>\n",
       "      <td>0</td>\n",
       "    </tr>\n",
       "    <tr>\n",
       "      <th>4</th>\n",
       "      <td>20190005</td>\n",
       "      <td>NaN</td>\n",
       "      <td>20190004.0</td>\n",
       "      <td>N-1-2019</td>\n",
       "      <td>Forget the spin, I've had more than my fair sh...</td>\n",
       "      <td>1</td>\n",
       "      <td>positive</td>\n",
       "      <td>trust</td>\n",
       "      <td>0</td>\n",
       "      <td>0</td>\n",
       "      <td>0</td>\n",
       "      <td>1</td>\n",
       "      <td>0</td>\n",
       "    </tr>\n",
       "  </tbody>\n",
       "</table>\n",
       "</div>"
      ],
      "text/plain": [
       "   Online Post ID  Twitter ID  Related Online Post ID Source ID  \\\n",
       "0        20190001         NaN                     NaN  N-1-2019   \n",
       "1        20190002         NaN              20190001.0  N-1-2019   \n",
       "2        20190003         NaN              20190001.0  N-1-2019   \n",
       "3        20190004         NaN              20190003.0  N-1-2019   \n",
       "4        20190005         NaN              20190004.0  N-1-2019   \n",
       "\n",
       "                                    Online Post Text  Subjectivity  \\\n",
       "0  Does that mean that if my home rent doubled in...             1   \n",
       "1  Of course he will. And he'll get every landlor...             1   \n",
       "2  Typical entitlement, benefit-seeking mentality...             1   \n",
       "3  What are you talking about? Everything has inc...             1   \n",
       "4  Forget the spin, I've had more than my fair sh...             1   \n",
       "\n",
       "  Sentiment Polarity       Emotion  Sarcasm  Irony  Negation  Off-topic   \\\n",
       "0           negative       sadness        0      1         0           0   \n",
       "1           negative         anger        0      1         0           0   \n",
       "2           positive       disgust        0      0         0           1   \n",
       "3           negative  anticipation        0      1         0           0   \n",
       "4           positive         trust        0      0         0           1   \n",
       "\n",
       "   Language  \n",
       "0         0  \n",
       "1         0  \n",
       "2         0  \n",
       "3         0  \n",
       "4         0  "
      ]
     },
     "execution_count": 12,
     "metadata": {},
     "output_type": "execute_result"
    }
   ],
   "source": [
    "malta_data_19.head()"
   ]
  },
  {
   "cell_type": "code",
   "execution_count": 13,
   "metadata": {},
   "outputs": [
    {
     "data": {
      "text/html": [
       "<div>\n",
       "<style scoped>\n",
       "    .dataframe tbody tr th:only-of-type {\n",
       "        vertical-align: middle;\n",
       "    }\n",
       "\n",
       "    .dataframe tbody tr th {\n",
       "        vertical-align: top;\n",
       "    }\n",
       "\n",
       "    .dataframe thead th {\n",
       "        text-align: right;\n",
       "    }\n",
       "</style>\n",
       "<table border=\"1\" class=\"dataframe\">\n",
       "  <thead>\n",
       "    <tr style=\"text-align: right;\">\n",
       "      <th></th>\n",
       "      <th>Online Post ID</th>\n",
       "      <th>Twitter ID</th>\n",
       "      <th>Related Online Post ID</th>\n",
       "      <th>Source ID</th>\n",
       "      <th>Online Post Text</th>\n",
       "      <th>Subjectivity</th>\n",
       "      <th>Sentiment Polarity</th>\n",
       "      <th>Emotion</th>\n",
       "      <th>Sarcasm</th>\n",
       "      <th>Irony</th>\n",
       "      <th>Negation</th>\n",
       "      <th>Off-topic</th>\n",
       "      <th>Language</th>\n",
       "    </tr>\n",
       "  </thead>\n",
       "  <tbody>\n",
       "    <tr>\n",
       "      <th>0</th>\n",
       "      <td>20200001</td>\n",
       "      <td>NaN</td>\n",
       "      <td>NaN</td>\n",
       "      <td>N-1-2020</td>\n",
       "      <td>\"the problems the Labour government had first ...</td>\n",
       "      <td>1</td>\n",
       "      <td>negative</td>\n",
       "      <td>disgust</td>\n",
       "      <td>1</td>\n",
       "      <td>0</td>\n",
       "      <td>1</td>\n",
       "      <td>0</td>\n",
       "      <td>0</td>\n",
       "    </tr>\n",
       "    <tr>\n",
       "      <th>1</th>\n",
       "      <td>20200002</td>\n",
       "      <td>NaN</td>\n",
       "      <td>20200001.0</td>\n",
       "      <td>N-1-2020</td>\n",
       "      <td>Yes any problems that they may have inherited ...</td>\n",
       "      <td>1</td>\n",
       "      <td>negative</td>\n",
       "      <td>sadness</td>\n",
       "      <td>0</td>\n",
       "      <td>0</td>\n",
       "      <td>0</td>\n",
       "      <td>0</td>\n",
       "      <td>0</td>\n",
       "    </tr>\n",
       "    <tr>\n",
       "      <th>2</th>\n",
       "      <td>20200003</td>\n",
       "      <td>NaN</td>\n",
       "      <td>20200002.0</td>\n",
       "      <td>N-1-2020</td>\n",
       "      <td>One of them is the total obliteration of the P...</td>\n",
       "      <td>1</td>\n",
       "      <td>negative</td>\n",
       "      <td>anger</td>\n",
       "      <td>0</td>\n",
       "      <td>0</td>\n",
       "      <td>0</td>\n",
       "      <td>1</td>\n",
       "      <td>0</td>\n",
       "    </tr>\n",
       "    <tr>\n",
       "      <th>3</th>\n",
       "      <td>20200004</td>\n",
       "      <td>NaN</td>\n",
       "      <td>20200003.0</td>\n",
       "      <td>N-1-2020</td>\n",
       "      <td>Is that the best you can come up with.</td>\n",
       "      <td>1</td>\n",
       "      <td>neutral</td>\n",
       "      <td>surprise</td>\n",
       "      <td>0</td>\n",
       "      <td>1</td>\n",
       "      <td>0</td>\n",
       "      <td>1</td>\n",
       "      <td>0</td>\n",
       "    </tr>\n",
       "    <tr>\n",
       "      <th>4</th>\n",
       "      <td>20200005</td>\n",
       "      <td>NaN</td>\n",
       "      <td>20200003.0</td>\n",
       "      <td>N-1-2020</td>\n",
       "      <td>Isn't worrying you, your stutter is getting wo...</td>\n",
       "      <td>1</td>\n",
       "      <td>negative</td>\n",
       "      <td>disgust</td>\n",
       "      <td>0</td>\n",
       "      <td>0</td>\n",
       "      <td>1</td>\n",
       "      <td>1</td>\n",
       "      <td>0</td>\n",
       "    </tr>\n",
       "  </tbody>\n",
       "</table>\n",
       "</div>"
      ],
      "text/plain": [
       "   Online Post ID  Twitter ID  Related Online Post ID Source ID  \\\n",
       "0        20200001         NaN                     NaN  N-1-2020   \n",
       "1        20200002         NaN              20200001.0  N-1-2020   \n",
       "2        20200003         NaN              20200002.0  N-1-2020   \n",
       "3        20200004         NaN              20200003.0  N-1-2020   \n",
       "4        20200005         NaN              20200003.0  N-1-2020   \n",
       "\n",
       "                                    Online Post Text  Subjectivity  \\\n",
       "0  \"the problems the Labour government had first ...             1   \n",
       "1  Yes any problems that they may have inherited ...             1   \n",
       "2  One of them is the total obliteration of the P...             1   \n",
       "3             Is that the best you can come up with.             1   \n",
       "4  Isn't worrying you, your stutter is getting wo...             1   \n",
       "\n",
       "  Sentiment Polarity   Emotion  Sarcasm  Irony  Negation  Off-topic  Language  \n",
       "0           negative   disgust        1      0         1          0         0  \n",
       "1           negative   sadness        0      0         0          0         0  \n",
       "2           negative     anger        0      0         0          1         0  \n",
       "3            neutral  surprise        0      1         0          1         0  \n",
       "4           negative   disgust        0      0         1          1         0  "
      ]
     },
     "execution_count": 13,
     "metadata": {},
     "output_type": "execute_result"
    }
   ],
   "source": [
    "malta_data_20.head()"
   ]
  },
  {
   "cell_type": "code",
   "execution_count": 20,
   "metadata": {},
   "outputs": [
    {
     "data": {
      "text/plain": [
       "Emotion\n",
       "joy             930\n",
       "anticipation    618\n",
       "trust           184\n",
       "disgust         178\n",
       "anger           131\n",
       "sadness          46\n",
       "surprise         42\n",
       "fear             13\n",
       "Name: count, dtype: int64"
      ]
     },
     "execution_count": 20,
     "metadata": {},
     "output_type": "execute_result"
    }
   ],
   "source": [
    "malta_data_18[\"Emotion\"].value_counts()"
   ]
  },
  {
   "cell_type": "code",
   "execution_count": 21,
   "metadata": {},
   "outputs": [
    {
     "data": {
      "text/plain": [
       "<Axes: >"
      ]
     },
     "execution_count": 21,
     "metadata": {},
     "output_type": "execute_result"
    },
    {
     "data": {
      "image/png": "[encoded data removed]",
      "text/plain": [
       "<Figure size 640x480 with 1 Axes>"
      ]
     },
     "metadata": {},
     "output_type": "display_data"
    }
   ],
   "source": [
    "malta_data_18[\"Emotion\"].hist()"
   ]
  },
  {
   "cell_type": "code",
   "execution_count": 17,
   "metadata": {},
   "outputs": [
    {
     "data": {
      "text/plain": [
       "<Axes: >"
      ]
     },
     "execution_count": 17,
     "metadata": {},
     "output_type": "execute_result"
    },
    {
     "data": {
      "image/png": "[encoded data removed]",
      "text/plain": [
       "<Figure size 640x480 with 1 Axes>"
      ]
     },
     "metadata": {},
     "output_type": "display_data"
    }
   ],
   "source": [
    "malta_data_19[\"Emotion\"].value_counts()\n",
    "malta_data_19[\"Emotion\"].hist()"
   ]
  },
  {
   "cell_type": "code",
   "execution_count": 23,
   "metadata": {},
   "outputs": [
    {
     "data": {
      "text/plain": [
       "<Axes: >"
      ]
     },
     "execution_count": 23,
     "metadata": {},
     "output_type": "execute_result"
    },
    {
     "data": {
      "image/png": "[encoded data removed]",
      "text/plain": [
       "<Figure size 640x480 with 1 Axes>"
      ]
     },
     "metadata": {},
     "output_type": "display_data"
    }
   ],
   "source": [
    "malta_data_20[\"Emotion\"].value_counts()\n",
    "malta_data_20[\"Emotion\"].hist()"
   ]
  },
  {
   "cell_type": "code",
   "execution_count": 28,
   "metadata": {},
   "outputs": [
    {
     "name": "stdout",
     "output_type": "stream",
     "text": [
      "<class 'pandas.core.frame.DataFrame'>\n",
      "RangeIndex: 6387 entries, 0 to 6386\n",
      "Data columns (total 14 columns):\n",
      " #   Column                  Non-Null Count  Dtype  \n",
      "---  ------                  --------------  -----  \n",
      " 0   Online Post ID          6387 non-null   int64  \n",
      " 1   Twitter ID              4664 non-null   float64\n",
      " 2   Related Online Post ID  1177 non-null   float64\n",
      " 3   Source ID               6387 non-null   object \n",
      " 4   Online Post Text        1723 non-null   object \n",
      " 5   Subjectivity            6387 non-null   int64  \n",
      " 6   Sentiment Polarity      6387 non-null   object \n",
      " 7   Emotion                 6387 non-null   object \n",
      " 8   Sarcasm                 6387 non-null   int64  \n",
      " 9   Irony                   6387 non-null   int64  \n",
      " 10  Negation                6387 non-null   int64  \n",
      " 11  Off-topic               4071 non-null   float64\n",
      " 12  Language                6387 non-null   int64  \n",
      " 13  Off-topic               2316 non-null   float64\n",
      "dtypes: float64(4), int64(6), object(4)\n",
      "memory usage: 698.7+ KB\n"
     ]
    }
   ],
   "source": [
    "combined_data = pd.concat([malta_data_18, malta_data_19, malta_data_20], ignore_index=True)\n",
    "combined_data.info()"
   ]
  },
  {
   "cell_type": "code",
   "execution_count": 57,
   "metadata": {},
   "outputs": [
    {
     "data": {
      "text/html": [
       "<div>\n",
       "<style scoped>\n",
       "    .dataframe tbody tr th:only-of-type {\n",
       "        vertical-align: middle;\n",
       "    }\n",
       "\n",
       "    .dataframe tbody tr th {\n",
       "        vertical-align: top;\n",
       "    }\n",
       "\n",
       "    .dataframe thead th {\n",
       "        text-align: right;\n",
       "    }\n",
       "</style>\n",
       "<table border=\"1\" class=\"dataframe\">\n",
       "  <thead>\n",
       "    <tr style=\"text-align: right;\">\n",
       "      <th></th>\n",
       "      <th>ID</th>\n",
       "      <th>Text</th>\n",
       "      <th>Subjectivity</th>\n",
       "      <th>Sentiment Polarity</th>\n",
       "      <th>Emotion</th>\n",
       "      <th>Sarcasm</th>\n",
       "      <th>Irony</th>\n",
       "      <th>Negation</th>\n",
       "    </tr>\n",
       "  </thead>\n",
       "  <tbody>\n",
       "    <tr>\n",
       "      <th>0</th>\n",
       "      <td>20180001</td>\n",
       "      <td>Great BUDGET . Even cigarettes were not touche...</td>\n",
       "      <td>1</td>\n",
       "      <td>positive</td>\n",
       "      <td>trust</td>\n",
       "      <td>0</td>\n",
       "      <td>0</td>\n",
       "      <td>1</td>\n",
       "    </tr>\n",
       "    <tr>\n",
       "      <th>1</th>\n",
       "      <td>20180002</td>\n",
       "      <td>I haven't exactly scanned the budget throughou...</td>\n",
       "      <td>1</td>\n",
       "      <td>negative</td>\n",
       "      <td>disgust</td>\n",
       "      <td>0</td>\n",
       "      <td>0</td>\n",
       "      <td>1</td>\n",
       "    </tr>\n",
       "    <tr>\n",
       "      <th>2</th>\n",
       "      <td>20180003</td>\n",
       "      <td>There’s already smoking cessation programs for...</td>\n",
       "      <td>1</td>\n",
       "      <td>neutral</td>\n",
       "      <td>anticipation</td>\n",
       "      <td>0</td>\n",
       "      <td>0</td>\n",
       "      <td>0</td>\n",
       "    </tr>\n",
       "    <tr>\n",
       "      <th>3</th>\n",
       "      <td>20180004</td>\n",
       "      <td>So should alcohol and fuel for private vehicle...</td>\n",
       "      <td>1</td>\n",
       "      <td>negative</td>\n",
       "      <td>sadness</td>\n",
       "      <td>0</td>\n",
       "      <td>0</td>\n",
       "      <td>0</td>\n",
       "    </tr>\n",
       "    <tr>\n",
       "      <th>4</th>\n",
       "      <td>20180005</td>\n",
       "      <td>Practical? You should say that in a third worl...</td>\n",
       "      <td>1</td>\n",
       "      <td>negative</td>\n",
       "      <td>anger</td>\n",
       "      <td>0</td>\n",
       "      <td>0</td>\n",
       "      <td>1</td>\n",
       "    </tr>\n",
       "  </tbody>\n",
       "</table>\n",
       "</div>"
      ],
      "text/plain": [
       "         ID                                               Text  Subjectivity  \\\n",
       "0  20180001  Great BUDGET . Even cigarettes were not touche...             1   \n",
       "1  20180002  I haven't exactly scanned the budget throughou...             1   \n",
       "2  20180003  There’s already smoking cessation programs for...             1   \n",
       "3  20180004  So should alcohol and fuel for private vehicle...             1   \n",
       "4  20180005  Practical? You should say that in a third worl...             1   \n",
       "\n",
       "  Sentiment Polarity       Emotion  Sarcasm  Irony  Negation  \n",
       "0           positive         trust        0      0         1  \n",
       "1           negative       disgust        0      0         1  \n",
       "2            neutral  anticipation        0      0         0  \n",
       "3           negative       sadness        0      0         0  \n",
       "4           negative         anger        0      0         1  "
      ]
     },
     "execution_count": 57,
     "metadata": {},
     "output_type": "execute_result"
    }
   ],
   "source": [
    "clean_data = combined_data.dropna(subset=['Online Post Text'])\n",
    "clean_data = clean_data.drop(['Twitter ID', 'Related Online Post ID', 'Source ID','Off-topic', 'Off-topic '], axis=1)\n",
    "clean_data = clean_data[clean_data['Language'] == 0]\n",
    "clean_data = clean_data.drop(['Language'], axis=1)\n",
    "clean_data = clean_data.rename(columns={'Online Post ID':'ID','Online Post Text':'Text'})\n",
    "clean_data.head()"
   ]
  },
  {
   "cell_type": "code",
   "execution_count": 55,
   "metadata": {},
   "outputs": [
    {
     "data": {
      "text/plain": [
       "Emotion\n",
       "disgust         253\n",
       "anger           225\n",
       "anticipation    199\n",
       "sadness         138\n",
       "joy              95\n",
       "surprise         92\n",
       "trust            67\n",
       "fear             45\n",
       "Name: count, dtype: int64"
      ]
     },
     "execution_count": 55,
     "metadata": {},
     "output_type": "execute_result"
    }
   ],
   "source": [
    "clean_data[\"Emotion\"].value_counts()"
   ]
  },
  {
   "cell_type": "code",
   "execution_count": 39,
   "metadata": {},
   "outputs": [
    {
     "name": "stderr",
     "output_type": "stream",
     "text": [
      "/var/folders/lx/s6mpvqt1305650xxj6d7yfj80000gn/T/ipykernel_57593/1873730629.py:8: FutureWarning: \n",
      "\n",
      "Passing `palette` without assigning `hue` is deprecated and will be removed in v0.14.0. Assign the `x` variable to `hue` and set `legend=False` for the same effect.\n",
      "\n",
      "  sns.barplot(x=value_counts.index, y=value_counts.values, palette='viridis')\n"
     ]
    },
    {
     "data": {
      "image/png": "[encoded data removed]",
      "text/plain": [
       "<Figure size 1000x600 with 1 Axes>"
      ]
     },
     "metadata": {},
     "output_type": "display_data"
    }
   ],
   "source": [
    "import matplotlib.pyplot as plt\n",
    "import seaborn as sns\n",
    "\n",
    "value_counts = clean_data['Emotion'].value_counts()\n",
    "\n",
    "# Plotting the frequency of string values in the 'Category' column\n",
    "plt.figure(figsize=(10, 6))\n",
    "sns.barplot(x=value_counts.index, y=value_counts.values, palette='viridis')\n",
    "plt.xlabel('Emotion')\n",
    "plt.ylabel('Frequency')\n",
    "plt.title('Frequency of Categories in the Column')\n",
    "plt.show()"
   ]
  },
  {
   "cell_type": "code",
   "execution_count": 58,
   "metadata": {},
   "outputs": [
    {
     "name": "stderr",
     "output_type": "stream",
     "text": [
      "[nltk_data] Downloading package wordnet to /Users/alex/nltk_data...\n",
      "[nltk_data]   Package wordnet is already up-to-date!\n"
     ]
    },
    {
     "data": {
      "text/html": [
       "<div>\n",
       "<style scoped>\n",
       "    .dataframe tbody tr th:only-of-type {\n",
       "        vertical-align: middle;\n",
       "    }\n",
       "\n",
       "    .dataframe tbody tr th {\n",
       "        vertical-align: top;\n",
       "    }\n",
       "\n",
       "    .dataframe thead th {\n",
       "        text-align: right;\n",
       "    }\n",
       "</style>\n",
       "<table border=\"1\" class=\"dataframe\">\n",
       "  <thead>\n",
       "    <tr style=\"text-align: right;\">\n",
       "      <th></th>\n",
       "      <th>ID</th>\n",
       "      <th>Text</th>\n",
       "      <th>Subjectivity</th>\n",
       "      <th>Sentiment Polarity</th>\n",
       "      <th>Emotion</th>\n",
       "      <th>Sarcasm</th>\n",
       "      <th>Irony</th>\n",
       "      <th>Negation</th>\n",
       "    </tr>\n",
       "  </thead>\n",
       "  <tbody>\n",
       "    <tr>\n",
       "      <th>0</th>\n",
       "      <td>20180001</td>\n",
       "      <td>great budget even cigarette touched great work...</td>\n",
       "      <td>1</td>\n",
       "      <td>positive</td>\n",
       "      <td>trust</td>\n",
       "      <td>0</td>\n",
       "      <td>0</td>\n",
       "      <td>1</td>\n",
       "    </tr>\n",
       "    <tr>\n",
       "      <th>1</th>\n",
       "      <td>20180002</td>\n",
       "      <td>exactly scanned budget throughout earth make i...</td>\n",
       "      <td>1</td>\n",
       "      <td>negative</td>\n",
       "      <td>disgust</td>\n",
       "      <td>0</td>\n",
       "      <td>0</td>\n",
       "      <td>1</td>\n",
       "    </tr>\n",
       "    <tr>\n",
       "      <th>2</th>\n",
       "      <td>20180003</td>\n",
       "      <td>already smoking cessation program people want ...</td>\n",
       "      <td>1</td>\n",
       "      <td>neutral</td>\n",
       "      <td>anticipation</td>\n",
       "      <td>0</td>\n",
       "      <td>0</td>\n",
       "      <td>0</td>\n",
       "    </tr>\n",
       "    <tr>\n",
       "      <th>3</th>\n",
       "      <td>20180004</td>\n",
       "      <td>alcohol fuel private vehicle raising tax cigar...</td>\n",
       "      <td>1</td>\n",
       "      <td>negative</td>\n",
       "      <td>sadness</td>\n",
       "      <td>0</td>\n",
       "      <td>0</td>\n",
       "      <td>0</td>\n",
       "    </tr>\n",
       "    <tr>\n",
       "      <th>4</th>\n",
       "      <td>20180005</td>\n",
       "      <td>practical say third world country supposed eur...</td>\n",
       "      <td>1</td>\n",
       "      <td>negative</td>\n",
       "      <td>anger</td>\n",
       "      <td>0</td>\n",
       "      <td>0</td>\n",
       "      <td>1</td>\n",
       "    </tr>\n",
       "  </tbody>\n",
       "</table>\n",
       "</div>"
      ],
      "text/plain": [
       "         ID                                               Text  Subjectivity  \\\n",
       "0  20180001  great budget even cigarette touched great work...             1   \n",
       "1  20180002  exactly scanned budget throughout earth make i...             1   \n",
       "2  20180003  already smoking cessation program people want ...             1   \n",
       "3  20180004  alcohol fuel private vehicle raising tax cigar...             1   \n",
       "4  20180005  practical say third world country supposed eur...             1   \n",
       "\n",
       "  Sentiment Polarity       Emotion  Sarcasm  Irony  Negation  \n",
       "0           positive         trust        0      0         1  \n",
       "1           negative       disgust        0      0         1  \n",
       "2            neutral  anticipation        0      0         0  \n",
       "3           negative       sadness        0      0         0  \n",
       "4           negative         anger        0      0         1  "
      ]
     },
     "execution_count": 58,
     "metadata": {},
     "output_type": "execute_result"
    }
   ],
   "source": [
    "import string\n",
    "import re\n",
    "import nltk\n",
    "nltk.download('wordnet')\n",
    "from nltk.corpus import stopwords\n",
    "from nltk.stem import WordNetLemmatizer\n",
    "from nltk.tokenize import word_tokenize\n",
    "import contractions\n",
    "\n",
    "def remove_special_characters(text):\n",
    "    pattern = re.compile(r'[^a-zA-Z\\s]')\n",
    "    return pattern.sub('', text)\n",
    "\n",
    "# Remove URLs and HTML tags\n",
    "clean_data['Text'] = clean_data['Text'].str.replace(r'http\\S+|www\\S+|https\\S+', '', regex=True)\n",
    "clean_data['Text'] = clean_data['Text'].str.replace(r'<.*?>', '', regex=True)\n",
    "\n",
    "# Expand contractions\n",
    "clean_data['Text'] = clean_data['Text'].apply(lambda x: contractions.fix(x))\n",
    "\n",
    "# Convert to lowercase\n",
    "clean_data['Text'] = clean_data['Text'].str.lower()\n",
    "\n",
    "# Remove punctuation\n",
    "clean_data['Text'] = clean_data['Text'].str.replace(f\"[{string.punctuation}]\", \" \", regex=True)\n",
    "\n",
    "# Remove numbers\n",
    "clean_data['Text'] = clean_data['Text'].str.replace(r'\\d+', '', regex=True)\n",
    "\n",
    "# Remove special characters\n",
    "clean_data['Text'] = clean_data['Text'].apply(remove_special_characters)\n",
    "\n",
    "# Remove stop words\n",
    "stop_words = set(stopwords.words('english'))\n",
    "clean_data['Text'] = clean_data['Text'].apply(lambda x: ' '.join(word for word in x.split() if word not in stop_words))\n",
    "\n",
    "# Remove extra whitespace\n",
    "clean_data['Text'] = clean_data['Text'].str.strip()\n",
    "clean_data['Text'] = clean_data['Text'].str.replace(r'\\s+', ' ', regex=True)\n",
    "\n",
    "# Lemmatize\n",
    "lemmatizer = WordNetLemmatizer()\n",
    "clean_data['Text'] = clean_data['Text'].apply(lambda x: ' '.join(lemmatizer.lemmatize(word) for word in x.split()))\n",
    "\n",
    "# Tokenize\n",
    "# clean_data['tokens'] = clean_data['Text'].apply(word_tokenize)\n",
    " \n",
    "clean_data.head()"
   ]
  },
  {
   "cell_type": "code",
   "execution_count": 59,
   "metadata": {},
   "outputs": [
    {
     "data": {
      "text/html": [
       "<div>\n",
       "<style scoped>\n",
       "    .dataframe tbody tr th:only-of-type {\n",
       "        vertical-align: middle;\n",
       "    }\n",
       "\n",
       "    .dataframe tbody tr th {\n",
       "        vertical-align: top;\n",
       "    }\n",
       "\n",
       "    .dataframe thead th {\n",
       "        text-align: right;\n",
       "    }\n",
       "</style>\n",
       "<table border=\"1\" class=\"dataframe\">\n",
       "  <thead>\n",
       "    <tr style=\"text-align: right;\">\n",
       "      <th></th>\n",
       "      <th>ID</th>\n",
       "      <th>Text</th>\n",
       "      <th>Emotion</th>\n",
       "    </tr>\n",
       "  </thead>\n",
       "  <tbody>\n",
       "    <tr>\n",
       "      <th>0</th>\n",
       "      <td>20180001</td>\n",
       "      <td>great budget even cigarette touched great work...</td>\n",
       "      <td>trust</td>\n",
       "    </tr>\n",
       "    <tr>\n",
       "      <th>1</th>\n",
       "      <td>20180002</td>\n",
       "      <td>exactly scanned budget throughout earth make i...</td>\n",
       "      <td>disgust</td>\n",
       "    </tr>\n",
       "    <tr>\n",
       "      <th>2</th>\n",
       "      <td>20180003</td>\n",
       "      <td>already smoking cessation program people want ...</td>\n",
       "      <td>anticipation</td>\n",
       "    </tr>\n",
       "    <tr>\n",
       "      <th>3</th>\n",
       "      <td>20180004</td>\n",
       "      <td>alcohol fuel private vehicle raising tax cigar...</td>\n",
       "      <td>sadness</td>\n",
       "    </tr>\n",
       "    <tr>\n",
       "      <th>4</th>\n",
       "      <td>20180005</td>\n",
       "      <td>practical say third world country supposed eur...</td>\n",
       "      <td>anger</td>\n",
       "    </tr>\n",
       "  </tbody>\n",
       "</table>\n",
       "</div>"
      ],
      "text/plain": [
       "         ID                                               Text       Emotion\n",
       "0  20180001  great budget even cigarette touched great work...         trust\n",
       "1  20180002  exactly scanned budget throughout earth make i...       disgust\n",
       "2  20180003  already smoking cessation program people want ...  anticipation\n",
       "3  20180004  alcohol fuel private vehicle raising tax cigar...       sadness\n",
       "4  20180005  practical say third world country supposed eur...         anger"
      ]
     },
     "execution_count": 59,
     "metadata": {},
     "output_type": "execute_result"
    }
   ],
   "source": [
    "stripped_data = clean_data.drop(columns=['Subjectivity','Sentiment Polarity', 'Sarcasm','Irony','Negation'])\n",
    "stripped_data.head()"
   ]
  },
  {
   "cell_type": "code",
   "execution_count": 77,
   "metadata": {},
   "outputs": [
    {
     "name": "stdout",
     "output_type": "stream",
     "text": [
      "Accuracy: 0.28699551569506726\n",
      "Classification Report:\n",
      "               precision    recall  f1-score   support\n",
      "\n",
      "       anger       0.19      0.31      0.24        45\n",
      "anticipation       0.43      0.45      0.44        40\n",
      "     disgust       0.32      0.51      0.39        51\n",
      "        fear       0.50      0.11      0.18         9\n",
      "         joy       0.00      0.00      0.00        19\n",
      "     sadness       0.29      0.18      0.22        28\n",
      "    surprise       0.00      0.00      0.00        18\n",
      "       trust       0.00      0.00      0.00        13\n",
      "\n",
      "    accuracy                           0.29       223\n",
      "   macro avg       0.22      0.20      0.18       223\n",
      "weighted avg       0.25      0.29      0.25       223\n",
      "\n"
     ]
    }
   ],
   "source": [
    "from sklearn.feature_extraction.text import CountVectorizer\n",
    "from sklearn.naive_bayes import MultinomialNB\n",
    "from sklearn.pipeline import make_pipeline\n",
    "from sklearn.model_selection import train_test_split\n",
    "from sklearn.metrics import accuracy_score, classification_report\n",
    "\n",
    "train_df, test_df = train_test_split(stripped_data, test_size=0.2, stratify=stripped_data['Emotion'], random_state=42)\n",
    "\n",
    "vectorizer = CountVectorizer()\n",
    "X_train = vectorizer.fit_transform(train_df['Text'])\n",
    "X_test = vectorizer.transform(test_df['Text'])\n",
    "\n",
    "# Labels\n",
    "y_train = train_df['Emotion']\n",
    "y_test = test_df['Emotion']\n",
    "\n",
    "# Training Naive Bayes classifier\n",
    "model = MultinomialNB()\n",
    "model.fit(X_train, y_train)\n",
    "\n",
    "# Predicting on test data\n",
    "y_pred = model.predict(X_test)\n",
    "\n",
    "# Evaluating the model\n",
    "accuracy = accuracy_score(y_test, y_pred)\n",
    "print(\"Accuracy:\", accuracy)\n",
    "print(\"Classification Report:\\n\", classification_report(y_test, y_pred))"
   ]
  },
  {
   "cell_type": "code",
   "execution_count": 94,
   "metadata": {},
   "outputs": [
    {
     "name": "stdout",
     "output_type": "stream",
     "text": [
      "Shape of training data: \n",
      "(891, 100)\n",
      "(891, 8)\n",
      "Shape of test data: \n",
      "(223, 100)\n",
      "(223, 8)\n"
     ]
    },
    {
     "data": {
      "text/html": [
       "<pre style=\"white-space:pre;overflow-x:auto;line-height:normal;font-family:Menlo,'DejaVu Sans Mono',consolas,'Courier New',monospace\"><span style=\"font-weight: bold\">Model: \"sequential_16\"</span>\n",
       "</pre>\n"
      ],
      "text/plain": [
       "\u001b[1mModel: \"sequential_16\"\u001b[0m\n"
      ]
     },
     "metadata": {},
     "output_type": "display_data"
    },
    {
     "data": {
      "text/html": [
       "<pre style=\"white-space:pre;overflow-x:auto;line-height:normal;font-family:Menlo,'DejaVu Sans Mono',consolas,'Courier New',monospace\">┏━━━━━━━━━━━━━━━━━━━━━━━━━━━━━━━━━┳━━━━━━━━━━━━━━━━━━━━━━━━┳━━━━━━━━━━━━━━━┓\n",
       "┃<span style=\"font-weight: bold\"> Layer (type)                    </span>┃<span style=\"font-weight: bold\"> Output Shape           </span>┃<span style=\"font-weight: bold\">       Param # </span>┃\n",
       "┡━━━━━━━━━━━━━━━━━━━━━━━━━━━━━━━━━╇━━━━━━━━━━━━━━━━━━━━━━━━╇━━━━━━━━━━━━━━━┩\n",
       "│ embedding_16 (<span style=\"color: #0087ff; text-decoration-color: #0087ff\">Embedding</span>)        │ ?                      │   <span style=\"color: #00af00; text-decoration-color: #00af00\">0</span> (unbuilt) │\n",
       "├─────────────────────────────────┼────────────────────────┼───────────────┤\n",
       "│ conv1d_17 (<span style=\"color: #0087ff; text-decoration-color: #0087ff\">Conv1D</span>)              │ ?                      │   <span style=\"color: #00af00; text-decoration-color: #00af00\">0</span> (unbuilt) │\n",
       "├─────────────────────────────────┼────────────────────────┼───────────────┤\n",
       "│ global_max_pooling1d_11         │ ?                      │   <span style=\"color: #00af00; text-decoration-color: #00af00\">0</span> (unbuilt) │\n",
       "│ (<span style=\"color: #0087ff; text-decoration-color: #0087ff\">GlobalMaxPooling1D</span>)            │                        │               │\n",
       "├─────────────────────────────────┼────────────────────────┼───────────────┤\n",
       "│ dense_25 (<span style=\"color: #0087ff; text-decoration-color: #0087ff\">Dense</span>)                │ ?                      │   <span style=\"color: #00af00; text-decoration-color: #00af00\">0</span> (unbuilt) │\n",
       "├─────────────────────────────────┼────────────────────────┼───────────────┤\n",
       "│ dropout_13 (<span style=\"color: #0087ff; text-decoration-color: #0087ff\">Dropout</span>)            │ ?                      │             <span style=\"color: #00af00; text-decoration-color: #00af00\">0</span> │\n",
       "├─────────────────────────────────┼────────────────────────┼───────────────┤\n",
       "│ dense_26 (<span style=\"color: #0087ff; text-decoration-color: #0087ff\">Dense</span>)                │ ?                      │   <span style=\"color: #00af00; text-decoration-color: #00af00\">0</span> (unbuilt) │\n",
       "└─────────────────────────────────┴────────────────────────┴───────────────┘\n",
       "</pre>\n"
      ],
      "text/plain": [
       "┏━━━━━━━━━━━━━━━━━━━━━━━━━━━━━━━━━┳━━━━━━━━━━━━━━━━━━━━━━━━┳━━━━━━━━━━━━━━━┓\n",
       "┃\u001b[1m \u001b[0m\u001b[1mLayer (type)                   \u001b[0m\u001b[1m \u001b[0m┃\u001b[1m \u001b[0m\u001b[1mOutput Shape          \u001b[0m\u001b[1m \u001b[0m┃\u001b[1m \u001b[0m\u001b[1m      Param #\u001b[0m\u001b[1m \u001b[0m┃\n",
       "┡━━━━━━━━━━━━━━━━━━━━━━━━━━━━━━━━━╇━━━━━━━━━━━━━━━━━━━━━━━━╇━━━━━━━━━━━━━━━┩\n",
       "│ embedding_16 (\u001b[38;5;33mEmbedding\u001b[0m)        │ ?                      │   \u001b[38;5;34m0\u001b[0m (unbuilt) │\n",
       "├─────────────────────────────────┼────────────────────────┼───────────────┤\n",
       "│ conv1d_17 (\u001b[38;5;33mConv1D\u001b[0m)              │ ?                      │   \u001b[38;5;34m0\u001b[0m (unbuilt) │\n",
       "├─────────────────────────────────┼────────────────────────┼───────────────┤\n",
       "│ global_max_pooling1d_11         │ ?                      │   \u001b[38;5;34m0\u001b[0m (unbuilt) │\n",
       "│ (\u001b[38;5;33mGlobalMaxPooling1D\u001b[0m)            │                        │               │\n",
       "├─────────────────────────────────┼────────────────────────┼───────────────┤\n",
       "│ dense_25 (\u001b[38;5;33mDense\u001b[0m)                │ ?                      │   \u001b[38;5;34m0\u001b[0m (unbuilt) │\n",
       "├─────────────────────────────────┼────────────────────────┼───────────────┤\n",
       "│ dropout_13 (\u001b[38;5;33mDropout\u001b[0m)            │ ?                      │             \u001b[38;5;34m0\u001b[0m │\n",
       "├─────────────────────────────────┼────────────────────────┼───────────────┤\n",
       "│ dense_26 (\u001b[38;5;33mDense\u001b[0m)                │ ?                      │   \u001b[38;5;34m0\u001b[0m (unbuilt) │\n",
       "└─────────────────────────────────┴────────────────────────┴───────────────┘\n"
      ]
     },
     "metadata": {},
     "output_type": "display_data"
    },
    {
     "data": {
      "text/html": [
       "<pre style=\"white-space:pre;overflow-x:auto;line-height:normal;font-family:Menlo,'DejaVu Sans Mono',consolas,'Courier New',monospace\"><span style=\"font-weight: bold\"> Total params: </span><span style=\"color: #00af00; text-decoration-color: #00af00\">0</span> (0.00 B)\n",
       "</pre>\n"
      ],
      "text/plain": [
       "\u001b[1m Total params: \u001b[0m\u001b[38;5;34m0\u001b[0m (0.00 B)\n"
      ]
     },
     "metadata": {},
     "output_type": "display_data"
    },
    {
     "data": {
      "text/html": [
       "<pre style=\"white-space:pre;overflow-x:auto;line-height:normal;font-family:Menlo,'DejaVu Sans Mono',consolas,'Courier New',monospace\"><span style=\"font-weight: bold\"> Trainable params: </span><span style=\"color: #00af00; text-decoration-color: #00af00\">0</span> (0.00 B)\n",
       "</pre>\n"
      ],
      "text/plain": [
       "\u001b[1m Trainable params: \u001b[0m\u001b[38;5;34m0\u001b[0m (0.00 B)\n"
      ]
     },
     "metadata": {},
     "output_type": "display_data"
    },
    {
     "data": {
      "text/html": [
       "<pre style=\"white-space:pre;overflow-x:auto;line-height:normal;font-family:Menlo,'DejaVu Sans Mono',consolas,'Courier New',monospace\"><span style=\"font-weight: bold\"> Non-trainable params: </span><span style=\"color: #00af00; text-decoration-color: #00af00\">0</span> (0.00 B)\n",
       "</pre>\n"
      ],
      "text/plain": [
       "\u001b[1m Non-trainable params: \u001b[0m\u001b[38;5;34m0\u001b[0m (0.00 B)\n"
      ]
     },
     "metadata": {},
     "output_type": "display_data"
    },
    {
     "name": "stdout",
     "output_type": "stream",
     "text": [
      "Epoch 1/10\n",
      "\u001b[1m28/28\u001b[0m \u001b[32m━━━━━━━━━━━━━━━━━━━━\u001b[0m\u001b[37m\u001b[0m \u001b[1m2s\u001b[0m 25ms/step - accuracy: 0.2382 - loss: 2.0280 - val_accuracy: 0.2242 - val_loss: 1.9289\n",
      "Epoch 2/10\n",
      "\u001b[1m28/28\u001b[0m \u001b[32m━━━━━━━━━━━━━━━━━━━━\u001b[0m\u001b[37m\u001b[0m \u001b[1m0s\u001b[0m 13ms/step - accuracy: 0.2505 - loss: 1.9083 - val_accuracy: 0.2242 - val_loss: 1.9300\n",
      "Epoch 3/10\n",
      "\u001b[1m28/28\u001b[0m \u001b[32m━━━━━━━━━━━━━━━━━━━━\u001b[0m\u001b[37m\u001b[0m \u001b[1m0s\u001b[0m 17ms/step - accuracy: 0.2586 - loss: 1.8856 - val_accuracy: 0.2242 - val_loss: 1.9188\n",
      "Epoch 4/10\n",
      "\u001b[1m28/28\u001b[0m \u001b[32m━━━━━━━━━━━━━━━━━━━━\u001b[0m\u001b[37m\u001b[0m \u001b[1m1s\u001b[0m 19ms/step - accuracy: 0.3037 - loss: 1.8073 - val_accuracy: 0.2556 - val_loss: 1.9205\n",
      "Epoch 5/10\n",
      "\u001b[1m28/28\u001b[0m \u001b[32m━━━━━━━━━━━━━━━━━━━━\u001b[0m\u001b[37m\u001b[0m \u001b[1m0s\u001b[0m 15ms/step - accuracy: 0.4892 - loss: 1.6753 - val_accuracy: 0.2870 - val_loss: 1.8902\n",
      "Epoch 6/10\n",
      "\u001b[1m28/28\u001b[0m \u001b[32m━━━━━━━━━━━━━━━━━━━━\u001b[0m\u001b[37m\u001b[0m \u001b[1m0s\u001b[0m 15ms/step - accuracy: 0.6155 - loss: 1.4248 - val_accuracy: 0.2870 - val_loss: 1.8812\n",
      "Epoch 7/10\n",
      "\u001b[1m28/28\u001b[0m \u001b[32m━━━━━━━━━━━━━━━━━━━━\u001b[0m\u001b[37m\u001b[0m \u001b[1m0s\u001b[0m 17ms/step - accuracy: 0.7077 - loss: 1.0887 - val_accuracy: 0.2870 - val_loss: 1.9273\n",
      "Epoch 8/10\n",
      "\u001b[1m28/28\u001b[0m \u001b[32m━━━━━━━━━━━━━━━━━━━━\u001b[0m\u001b[37m\u001b[0m \u001b[1m0s\u001b[0m 15ms/step - accuracy: 0.7835 - loss: 0.7961 - val_accuracy: 0.2915 - val_loss: 2.0143\n",
      "Epoch 9/10\n",
      "\u001b[1m28/28\u001b[0m \u001b[32m━━━━━━━━━━━━━━━━━━━━\u001b[0m\u001b[37m\u001b[0m \u001b[1m0s\u001b[0m 16ms/step - accuracy: 0.8611 - loss: 0.5586 - val_accuracy: 0.2780 - val_loss: 2.1593\n",
      "Epoch 10/10\n",
      "\u001b[1m28/28\u001b[0m \u001b[32m━━━━━━━━━━━━━━━━━━━━\u001b[0m\u001b[37m\u001b[0m \u001b[1m0s\u001b[0m 15ms/step - accuracy: 0.9219 - loss: 0.4106 - val_accuracy: 0.2601 - val_loss: 2.3508\n",
      "\u001b[1m7/7\u001b[0m \u001b[32m━━━━━━━━━━━━━━━━━━━━\u001b[0m\u001b[37m\u001b[0m \u001b[1m0s\u001b[0m 4ms/step - accuracy: 0.2572 - loss: 2.3904 \n",
      "Test Loss: 2.3508284091949463\n",
      "Test Accuracy: 0.2600896954536438\n"
     ]
    }
   ],
   "source": [
    "import string\n",
    "from sklearn.model_selection import train_test_split\n",
    "from tensorflow.keras.preprocessing.text import Tokenizer\n",
    "from tensorflow.keras.preprocessing.sequence import pad_sequences\n",
    "from tensorflow.keras.models import Sequential\n",
    "from tensorflow.keras.layers import Embedding, Conv1D, MaxPooling1D, GlobalMaxPooling1D, Dense, Dropout\n",
    "from tensorflow.keras.layers import GlobalAveragePooling2D, MaxPooling2D, Conv2D\n",
    "# Tokenization and Padding\n",
    "max_features = 1000  # Max number of words in tokenizer\n",
    "max_len = 100  # Max length of each sequence (pad/truncate to this length)\n",
    "tokenizer = Tokenizer(num_words=max_features)\n",
    "tokenizer.fit_on_texts(stripped_data['Text'])\n",
    "sequences = tokenizer.texts_to_sequences(stripped_data['Text'])\n",
    "x_data = pad_sequences(sequences, maxlen=max_len)\n",
    "y_data = pd.get_dummies(stripped_data['Emotion']).values  # Convert categorical labels to one-hot encoded vectors\n",
    "\n",
    "# Splitting data into training and testing sets\n",
    "X_train, X_test, y_train, y_test = train_test_split(x_data, y_data, test_size=0.2, random_state=42)\n",
    "print('Shape of training data: ')\n",
    "print(X_train.shape)\n",
    "print(y_train.shape)\n",
    "print('Shape of test data: ')\n",
    "print(X_test.shape)\n",
    "print(y_test.shape)\n",
    "\n",
    "\n",
    "# CNN Model Architecture\n",
    "embedding_dim = 100\n",
    "model = Sequential()\n",
    "model.add(Embedding(input_dim=max_features, output_dim=embedding_dim))  # Specify input_dim instead of input_length\n",
    "model.add(Conv1D(128, 5, activation='relu'))\n",
    "model.add(GlobalMaxPooling1D())\n",
    "model.add(Dense(64, activation='relu'))\n",
    "model.add(Dropout(0.2))\n",
    "model.add(Dense(y_data.shape[1], activation='softmax'))  # Output layer with softmax activation for multi-class classification\n",
    "\n",
    "# embedding_dim = 100\n",
    "# model = Sequential()\n",
    "# model.add(Embedding(input_dim=max_features, output_dim=embedding_dim))  # Specify input_dim instead of input_length\n",
    "# model.add(Conv2D(128, 5, activation='relu'))\n",
    "# model.add(MaxPooling2D(pool_size=2))\n",
    "# model.add(Conv2D(128, 5, activation='relu'))\n",
    "# model.add(MaxPooling1D(pool_size=2))\n",
    "# model.add(Conv2D(128, 5, activation='relu'))\n",
    "# model.add(GlobalAveragePooling2D())\n",
    "# model.add(Dense(64, activation='relu'))\n",
    "# model.add(Dropout(0.2))\n",
    "# model.add(Dense(y_data.shape[1], activation='softmax')) \n",
    "\n",
    "\n",
    "# Compile the model\n",
    "model.compile(optimizer='adam', loss='categorical_crossentropy', metrics=['accuracy'])\n",
    "model.summary()\n",
    "\n",
    "# Training the model\n",
    "batch_size = 32\n",
    "epochs = 10\n",
    "model.fit(X_train, y_train, batch_size=batch_size, epochs=epochs, validation_data=(X_test, y_test))\n",
    "\n",
    "# Evaluate the model\n",
    "loss, accuracy = model.evaluate(X_test, y_test)\n",
    "print(\"Test Loss:\", loss)\n",
    "print(\"Test Accuracy:\", accuracy)"
   ]
  },
  {
   "cell_type": "code",
   "execution_count": 87,
   "metadata": {},
   "outputs": [
    {
     "name": "stdout",
     "output_type": "stream",
     "text": [
      "[False False False False False False False  True] [False False  True False False False False False] [False  True False False False False False False] [False False False False False  True False False] [ True False False False False False False False] [False False False False False False False  True] [False False False False False False False  True] [False False  True False False False False False] [ True False False False False False False False] [False False False False False  True False False] [False  True False False False False False False] [False  True False False False False False False] [False  True False False False False False False] [False  True False False False False False False] [ True False False False False False False False] [False  True False False False False False False] [False  True False False False False False False] [False False  True False False False False False] [False  True False False False False False False] [False  True False False False False False False] [ True False False False False False False False] [False  True False False False False False False] [False  True False False False False False False] [False  True False False False False False False] [False False False  True False False False False] [False False  True False False False False False] [False False  True False False False False False] [False False False False False False False  True] [ True False False False False False False False] [False  True False False False False False False] [False  True False False False False False False] [ True False False False False False False False] [False  True False False False False False False] [False False  True False False False False False] [False False  True False False False False False] [False False False False False False  True False] [ True False False False False False False False] [False  True False False False False False False] [False  True False False False False False False] [False False False False  True False False False] [False False  True False False False False False] [False False False False  True False False False] [False  True False False False False False False] [False  True False False False False False False] [False  True False False False False False False] [False  True False False False False False False] [False False False False False False  True False] [False  True False False False False False False] [False False  True False False False False False] [False False False False False False  True False] [False False False False False  True False False] [False  True False False False False False False] [False False False False False  True False False] [False False  True False False False False False] [ True False False False False False False False] [False  True False False False False False False] [False  True False False False False False False] [ True False False False False False False False] [False False  True False False False False False] [False False False False False False False  True] [False False False False False False False  True] [False False False False False False  True False] [False  True False False False False False False] [False False  True False False False False False] [False  True False False False False False False] [False False False False False  True False False] [False  True False False False False False False] [False False  True False False False False False] [ True False False False False False False False] [False False  True False False False False False] [ True False False False False False False False] [False False  True False False False False False] [ True False False False False False False False] [False False False False False False  True False] [False False False False False False  True False] [False  True False False False False False False] [False False  True False False False False False] [ True False False False False False False False] [False False  True False False False False False] [ True False False False False False False False] [ True False False False False False False False] [ True False False False False False False False] [False False False False False False  True False] [False  True False False False False False False] [False  True False False False False False False] [False False False False False False False  True] [False False  True False False False False False] [False False False False False False False  True] [False False False False False False False  True] [False False  True False False False False False] [ True False False False False False False False] [False False  True False False False False False] [False  True False False False False False False] [False  True False False False False False False] [ True False False False False False False False] [False False  True False False False False False] [ True False False False False False False False] [False False False False False False  True False] [False False False False False  True False False] [False False False False  True False False False] [ True False False False False False False False] [False  True False False False False False False] [False False False False  True False False False] [False  True False False False False False False] [False False False False  True False False False] [ True False False False False False False False] [False False False False False False  True False] [False  True False False False False False False] [False False  True False False False False False] [ True False False False False False False False] [ True False False False False False False False] [ True False False False False False False False] [False False  True False False False False False] [False False  True False False False False False] [False False False False False  True False False] [ True False False False False False False False] [False False False False False False  True False] [False False  True False False False False False] [False False  True False False False False False] [False False  True False False False False False] [False False  True False False False False False] [False False  True False False False False False] [False False  True False False False False False] [False False  True False False False False False] [False False  True False False False False False] [False False  True False False False False False] [ True False False False False False False False] [False False  True False False False False False] [False False  True False False False False False] [False False False  True False False False False] [False  True False False False False False False] [False False False False False False False  True] [ True False False False False False False False] [False  True False False False False False False] [ True False False False False False False False] [False  True False False False False False False] [False False False False False  True False False] [False  True False False False False False False] [False False False False False False False  True] [False False False False False False False  True] [False  True False False False False False False] [False False False False False False False  True] [False False  True False False False False False] [False False False False False False False  True] [False False False False False  True False False] [False False False False  True False False False] [False False False False False False False  True] [False False False False False False False  True] [False False False False False False  True False] [False False False False False False  True False] [False False  True False False False False False] [False False  True False False False False False] [False False  True False False False False False] [False False False False False False  True False] [False False  True False False False False False] [False False False False False False False  True] [ True False False False False False False False] [False False  True False False False False False] [ True False False False False False False False] [False False  True False False False False False] [False False False False False  True False False] [False False  True False False False False False] [False False  True False False False False False] [False False False False False  True False False] [ True False False False False False False False] [False False False False False  True False False] [ True False False False False False False False] [ True False False False False False False False] [ True False False False False False False False] [False False False False  True False False False] [False False False False False False False  True] [ True False False False False False False False] [False False False False  True False False False] [False False False False False False False  True] [False False False False False False False  True] [False False False False  True False False False] [ True False False False False False False False] [False False False False False  True False False] [False False False False  True False False False] [False False False False False False False  True] [False False False False False False False  True] [False False False False  True False False False] [False  True False False False False False False] [False False False False False False  True False] [False False  True False False False False False] [False False False False  True False False False] [ True False False False False False False False] [False  True False False False False False False] [False False False False  True False False False] [False False False False False False False  True] [False False  True False False False False False] [False False  True False False False False False] [False  True False False False False False False] [False  True False False False False False False] [False False False  True False False False False] [ True False False False False False False False] [ True False False False False False False False] [False False  True False False False False False] [ True False False False False False False False] [ True False False False False False False False] [False False  True False False False False False] [False False False False False False False  True] [False False  True False False False False False] [False False  True False False False False False] [False False  True False False False False False] [ True False False False False False False False] [False False  True False False False False False] [ True False False False False False False False] [False False  True False False False False False] [False False  True False False False False False] [False False False False  True False False False] [False False  True False False False False False] [False False  True False False False False False] [ True False False False False False False False] [ True False False False False False False False] [False False  True False False False False False] [False False  True False False False False False] [False False  True False False False False False] [False False  True False False False False False] [False False  True False False False False False] [False False  True False False False False False] [ True False False False False False False False] [False False  True False False False False False] [False False  True False False False False False] [False False  True False False False False False] [ True False False False False False False False] [False False False False False False False  True] [ True False False False False False False False] [False False False False False False False  True] [ True False False False False False False False] [ True False False False False False False False] [False False False False False False False  True] [ True False False False False False False False] [False False False False  True False False False] [False False  True False False False False False] [False False False False False False False  True] [False False  True False False False False False] [False False False False False False  True False] [False False  True False False False False False] [ True False False False False False False False] [False False  True False False False False False] [ True False False False False False False False] [False False  True False False False False False] [False False  True False False False False False] [False False  True False False False False False] [False  True False False False False False False] [False False  True False False False False False] [ True False False False False False False False] [ True False False False False False False False] [ True False False False False False False False] [False False  True False False False False False] [False False  True False False False False False] [ True False False False False False False False] [False  True False False False False False False] [ True False False False False False False False] [False False  True False False False False False] [False False False False  True False False False] [False False  True False False False False False] [ True False False False False False False False] [False False False False False False False  True] [ True False False False False False False False] [False False  True False False False False False] [False False False False  True False False False] [False False  True False False False False False] [False False False False False False  True False] [False False  True False False False False False] [ True False False False False False False False] [False False False  True False False False False] [False False  True False False False False False] [False False  True False False False False False] [False False  True False False False False False] [False  True False False False False False False] [ True False False False False False False False] [False False  True False False False False False] [False False  True False False False False False] [False False  True False False False False False] [False False False False False False  True False] [False  True False False False False False False] [False False False False False False  True False] [ True False False False False False False False] [ True False False False False False False False] [False False False  True False False False False] [False False False False False  True False False] [False False False  True False False False False] [ True False False False False False False False] [ True False False False False False False False] [ True False False False False False False False] [False False False False False  True False False] [ True False False False False False False False] [False False  True False False False False False] [ True False False False False False False False] [False False False False False False False  True] [ True False False False False False False False] [False  True False False False False False False] [False False False False False False False  True] [False False False False False  True False False] [ True False False False False False False False] [False False  True False False False False False] [False  True False False False False False False] [False False False False False False False  True] [False False False False False  True False False] [ True False False False False False False False] [False False  True False False False False False] [False  True False False False False False False] [False False False False False False  True False] [ True False False False False False False False] [ True False False False False False False False] [False False False False False  True False False] [False False False False False False False  True] [ True False False False False False False False] [False  True False False False False False False] [False False False False False  True False False] [False False False False False False False  True] [ True False False False False False False False] [False False False False False  True False False] [False False  True False False False False False] [False False  True False False False False False] [ True False False False False False False False] [ True False False False False False False False] [False False  True False False False False False] [False False  True False False False False False] [ True False False False False False False False] [ True False False False False False False False] [False False  True False False False False False] [ True False False False False False False False] [ True False False False False False False False] [False False False False False  True False False] [False False False False False  True False False] [False False  True False False False False False] [False  True False False False False False False] [False False False False False False False  True] [False False False False False  True False False] [False False False False False  True False False] [False  True False False False False False False] [ True False False False False False False False] [False False False False False  True False False] [False False False False False  True False False] [False False False False False  True False False] [ True False False False False False False False] [False  True False False False False False False] [False False  True False False False False False] [False False  True False False False False False] [False False  True False False False False False] [False False False  True False False False False] [ True False False False False False False False] [False False False False False False  True False] [False False False False  True False False False] [False False  True False False False False False] [False False False False False False  True False] [False False  True False False False False False] [False False  True False False False False False] [False False  True False False False False False] [False False  True False False False False False] [False False False False False  True False False] [False False False False False False False  True] [False False False False False False False  True] [False False False  True False False False False] [False False False False False False  True False] [ True False False False False False False False] [False False False False  True False False False] [False False False False  True False False False] [False  True False False False False False False] [False False False False  True False False False] [False False  True False False False False False] [False False False False False False  True False] [False  True False False False False False False] [False  True False False False False False False] [False False False False False  True False False] [False False False False False False  True False] [False  True False False False False False False] [False False False False  True False False False] [False  True False False False False False False] [False False False False False  True False False] [False False False  True False False False False] [False False False False False False False  True] [False False  True False False False False False] [ True False False False False False False False] [False  True False False False False False False] [False  True False False False False False False] [False  True False False False False False False] [False  True False False False False False False] [False False False False False False  True False] [False False False False False  True False False] [False  True False False False False False False] [False  True False False False False False False] [ True False False False False False False False] [False  True False False False False False False] [False  True False False False False False False] [False False False False  True False False False] [False False False False  True False False False] [False False False False  True False False False] [False False False False  True False False False] [ True False False False False False False False] [False False False False False False False  True] [False  True False False False False False False] [False False False  True False False False False] [False False False False False False False  True] [False False False False False  True False False] [False False False False False False  True False] [False False False False False  True False False] [ True False False False False False False False] [False False False  True False False False False] [False False False False False False  True False] [False False  True False False False False False] [False False False False False False False  True] [False  True False False False False False False] [ True False False False False False False False] [ True False False False False False False False] [False False False False False  True False False] [False False  True False False False False False] [False False False False False False  True False] [ True False False False False False False False] [ True False False False False False False False] [ True False False False False False False False] [False False False False  True False False False] [False False False False False  True False False] [False False False False False  True False False] [False False  True False False False False False] [False False False False False False  True False] [False False False False  True False False False] [False False  True False False False False False] [False False False False False False  True False] [False False False False False False False  True] [False False False False False  True False False] [ True False False False False False False False] [False False False False False False  True False] [False False  True False False False False False] [False False False False False  True False False] [False  True False False False False False False] [False False  True False False False False False] [False False False False False  True False False] [False False  True False False False False False] [False False  True False False False False False] [False False False False False False  True False] [False False  True False False False False False] [False False False False False False  True False] [False False False False False  True False False] [False  True False False False False False False] [False  True False False False False False False] [False  True False False False False False False] [False False  True False False False False False] [ True False False False False False False False] [False False False False False False  True False] [False False False False  True False False False] [ True False False False False False False False] [False  True False False False False False False] [ True False False False False False False False] [False False False False False False  True False] [False False False False  True False False False] [ True False False False False False False False] [False False False False False False  True False] [ True False False False False False False False] [False False False False False False False  True] [False  True False False False False False False] [False  True False False False False False False] [False False  True False False False False False] [False False False False  True False False False] [ True False False False False False False False] [False False  True False False False False False] [False False  True False False False False False] [False False False False False False  True False] [False  True False False False False False False] [ True False False False False False False False] [False False  True False False False False False] [False False False False  True False False False] [False False False False False False  True False] [ True False False False False False False False] [False False False False False  True False False] [False  True False False False False False False] [False False False False False False  True False] [False  True False False False False False False] [False False  True False False False False False] [False False  True False False False False False] [False False False False  True False False False] [False False False False False  True False False] [False False False  True False False False False] [False False False False False  True False False] [False False False False False  True False False] [ True False False False False False False False] [False False False False False  True False False] [False False False False False  True False False] [False False False False False False False  True] [False  True False False False False False False] [ True False False False False False False False] [False False  True False False False False False] [False False False False False  True False False] [False False  True False False False False False] [False False False False False  True False False] [False False False  True False False False False] [False  True False False False False False False] [False False  True False False False False False] [ True False False False False False False False] [False False  True False False False False False] [ True False False False False False False False] [ True False False False False False False False] [False False  True False False False False False] [False False False False False  True False False] [False False False False  True False False False] [False False False False False False  True False] [False False False False False False  True False] [False False False False False False  True False] [False False False False False  True False False] [False False False False False False  True False] [False False False False  True False False False] [False  True False False False False False False] [False False False False  True False False False] [False False  True False False False False False] [False False False False  True False False False] [False False False False  True False False False] [False False False False  True False False False] [False False False False  True False False False] [False False False False  True False False False] [False False False  True False False False False] [False False False False  True False False False] [False False False  True False False False False] [False  True False False False False False False] [False False  True False False False False False] [False False False False  True False False False] [ True False False False False False False False] [False False  True False False False False False] [False False False False  True False False False] [False False False False False  True False False] [False False False False  True False False False] [False False  True False False False False False] [False False False False False  True False False] [False False False False False  True False False] [False False  True False False False False False] [False False False  True False False False False] [False False False False False  True False False] [False False  True False False False False False] [False False  True False False False False False] [False False False False False False  True False] [False False  True False False False False False] [False False  True False False False False False] [False False False False  True False False False] [ True False False False False False False False] [False  True False False False False False False] [False False False False False  True False False] [False False  True False False False False False] [ True False False False False False False False] [False False  True False False False False False] [False  True False False False False False False] [ True False False False False False False False] [ True False False False False False False False] [ True False False False False False False False] [False False  True False False False False False] [False False False False  True False False False] [ True False False False False False False False] [False False  True False False False False False] [False False False False  True False False False] [False False False False False False  True False] [False False False False  True False False False] [ True False False False False False False False] [False False False False False False False  True] [ True False False False False False False False] [False False False False  True False False False] [ True False False False False False False False] [False False False False False False False  True] [False False False  True False False False False] [ True False False False False False False False] [False False False False False False  True False] [False False  True False False False False False] [False False False False False False  True False] [False False False False  True False False False] [False  True False False False False False False] [False False False  True False False False False] [False False False  True False False False False] [ True False False False False False False False] [False False False False  True False False False] [False False False False  True False False False] [False False False  True False False False False] [False  True False False False False False False] [False  True False False False False False False] [False False False False False False  True False] [False False False False False False  True False] [False  True False False False False False False] [False False False False False False  True False] [False  True False False False False False False] [False False False False False False  True False] [False False  True False False False False False] [False False False False  True False False False] [ True False False False False False False False] [False False False False  True False False False] [False False False False False  True False False] [False False False False False False  True False] [False False False False False False  True False] [False False False False  True False False False] [False False False False  True False False False] [False False False False False  True False False] [False False False False  True False False False] [False False  True False False False False False] [False  True False False False False False False] [False False False False  True False False False] [False False False False False  True False False] [False False False False False  True False False] [ True False False False False False False False] [False False False False False False False  True] [ True False False False False False False False] [ True False False False False False False False] [False False  True False False False False False] [ True False False False False False False False] [ True False False False False False False False] [False False  True False False False False False] [False False False False  True False False False] [False False False False  True False False False] [False False False False  True False False False] [False False False False False  True False False] [False False  True False False False False False] [False False  True False False False False False] [False False False False  True False False False] [False False False  True False False False False] [False False False False False  True False False] [False False  True False False False False False] [False False False False  True False False False] [False False False False False False False  True] [False False  True False False False False False] [False False  True False False False False False] [False False  True False False False False False] [False False False False False False  True False] [False False False False False  True False False] [ True False False False False False False False] [False False  True False False False False False] [False  True False False False False False False] [False  True False False False False False False] [False False  True False False False False False] [ True False False False False False False False] [False False  True False False False False False] [ True False False False False False False False] [False False False False False False  True False] [ True False False False False False False False] [False False False False False  True False False] [False  True False False False False False False] [False False False False  True False False False] [False  True False False False False False False] [False False False False False False  True False] [False False False False False  True False False] [ True False False False False False False False] [False  True False False False False False False] [False False  True False False False False False] [False False  True False False False False False] [False False  True False False False False False] [ True False False False False False False False] [False  True False False False False False False] [ True False False False False False False False] [False False False False False False  True False] [False False False False False False  True False] [False False  True False False False False False] [False False  True False False False False False] [False False  True False False False False False] [False False  True False False False False False] [False False False False False False  True False] [False False  True False False False False False] [False False False False False False  True False] [ True False False False False False False False] [False False False  True False False False False] [False False  True False False False False False] [False False False  True False False False False] [ True False False False False False False False] [False False False False  True False False False] [False False  True False False False False False] [False False  True False False False False False] [False False False False False  True False False] [ True False False False False False False False] [False False False False False False  True False] [False False  True False False False False False] [False  True False False False False False False] [False  True False False False False False False] [False False False False False False False  True] [False False False False False  True False False] [ True False False False False False False False] [False  True False False False False False False] [False False False False False False  True False] [False False False False False  True False False] [False False False False False  True False False] [False  True False False False False False False] [False False False False False  True False False] [False False False False False False  True False] [False  True False False False False False False] [False False  True False False False False False] [False False False  True False False False False] [False False False False False  True False False] [False False False False False False  True False] [False False False False False  True False False] [False False False  True False False False False] [ True False False False False False False False] [False False False False False False  True False] [ True False False False False False False False] [ True False False False False False False False] [False  True False False False False False False] [ True False False False False False False False] [False False False False False  True False False] [ True False False False False False False False] [False False  True False False False False False] [False  True False False False False False False] [False False False False  True False False False] [False  True False False False False False False] [False False False False  True False False False] [False False  True False False False False False] [False False False False False  True False False] [False  True False False False False False False] [False False  True False False False False False] [False  True False False False False False False] [False  True False False False False False False] [False False  True False False False False False] [False False False False  True False False False] [ True False False False False False False False] [False False False False False False  True False] [False False False False False  True False False] [ True False False False False False False False] [ True False False False False False False False] [ True False False False False False False False] [ True False False False False False False False] [ True False False False False False False False] [False False  True False False False False False] [False False False False False False  True False] [False  True False False False False False False] [False False  True False False False False False] [False False  True False False False False False] [ True False False False False False False False] [False False False False  True False False False] [False  True False False False False False False] [False False False False  True False False False] [False  True False False False False False False] [False  True False False False False False False] [False False False False False  True False False] [False False False False False False  True False] [ True False False False False False False False] [False False False False False  True False False] [False False False False False  True False False] [False False False  True False False False False] [False False False False False False  True False] [False False False False False  True False False] [False  True False False False False False False] [ True False False False False False False False] [False  True False False False False False False] [False  True False False False False False False] [False False False False False False  True False] [False False False False  True False False False] [False  True False False False False False False] [False False  True False False False False False] [False False  True False False False False False] [ True False False False False False False False] [False False False False False  True False False] [False False  True False False False False False] [ True False False False False False False False] [ True False False False False False False False] [False  True False False False False False False] [ True False False False False False False False] [False  True False False False False False False] [False False False False False  True False False] [False False False False False False  True False] [ True False False False False False False False] [False  True False False False False False False] [False False False  True False False False False] [False False False False False  True False False] [False  True False False False False False False] [False  True False False False False False False] [False  True False False False False False False] [False False  True False False False False False] [False False False False False False  True False] [False  True False False False False False False] [False False False False False  True False False] [False False  True False False False False False] [False False False False False  True False False] [False False False  True False False False False] [False False False False False  True False False] [False  True False False False False False False] [False False False False  True False False False] [False False  True False False False False False] [ True False False False False False False False] [False False False False False  True False False] [False False  True False False False False False] [False False False False False  True False False] [ True False False False False False False False] [False False False False False False False  True] [ True False False False False False False False] [False False False False False False False  True] [False False False  True False False False False] [False False False False False False  True False] [ True False False False False False False False] [False False False False False  True False False] [False False  True False False False False False] [False False  True False False False False False] [False False False False False False  True False] [False False  True False False False False False] [False  True False False False False False False] [ True False False False False False False False] [ True False False False False False False False] [False  True False False False False False False] [False False  True False False False False False] [False False False False False False False  True] [False False  True False False False False False] [False False  True False False False False False] [False False  True False False False False False] [False False  True False False False False False] [False  True False False False False False False] [False False False False False  True False False] [False False False False False False  True False] [False False False False False False False  True] [False  True False False False False False False] [False False False False False  True False False] [False False False False False  True False False] [False False False False  True False False False] [ True False False False False False False False] [ True False False False False False False False] [False False  True False False False False False] [False False False False False  True False False] [ True False False False False False False False] [False  True False False False False False False] [False False False False False False  True False] [False  True False False False False False False] [ True False False False False False False False] [False  True False False False False False False] [False False False False False False  True False] [False  True False False False False False False] [ True False False False False False False False] [False False False False False  True False False] [False False False False False False False  True] [ True False False False False False False False] [False False False False False False  True False] [False  True False False False False False False] [False  True False False False False False False] [False  True False False False False False False] [False False False  True False False False False] [False  True False False False False False False] [False False False False  True False False False] [False False  True False False False False False] [False False False False False  True False False] [False  True False False False False False False] [False False False False False  True False False] [False False False False  True False False False] [ True False False False False False False False] [False  True False False False False False False] [False  True False False False False False False] [ True False False False False False False False] [ True False False False False False False False] [False False  True False False False False False] [False False False False False  True False False] [False False  True False False False False False] [ True False False False False False False False] [False False False False False  True False False] [False False False False  True False False False] [False False  True False False False False False] [False False False  True False False False False] [False  True False False False False False False] [False False  True False False False False False] [False False False False False  True False False] [False  True False False False False False False] [False False False False  True False False False] [False False  True False False False False False] [False False False False False  True False False] [ True False False False False False False False] [False False False False False  True False False] [False False  True False False False False False] [False False  True False False False False False] [False False False False False False  True False] [False False False False False  True False False] [ True False False False False False False False] [False False False False False  True False False] [False False False False False  True False False] [False False  True False False False False False] [False False  True False False False False False] [False False  True False False False False False] [ True False False False False False False False] [ True False False False False False False False] [False  True False False False False False False] [False False False False  True False False False] [False False  True False False False False False] [ True False False False False False False False] [False False  True False False False False False] [False False False False False False False  True] [False False  True False False False False False] [False False  True False False False False False] [False  True False False False False False False] [ True False False False False False False False] [ True False False False False False False False] [False False False False  True False False False] [ True False False False False False False False] [ True False False False False False False False] [False False False False False  True False False] [False False  True False False False False False] [False False False False False  True False False] [False  True False False False False False False] [False  True False False False False False False] [ True False False False False False False False] [False False False False  True False False False] [False  True False False False False False False] [ True False False False False False False False] [False False  True False False False False False] [False  True False False False False False False] [False  True False False False False False False] [False False  True False False False False False] [False False False False False  True False False] [ True False False False False False False False] [ True False False False False False False False] [ True False False False False False False False] [False False  True False False False False False] [ True False False False False False False False] [False False  True False False False False False] [False False  True False False False False False] [False False False False False  True False False] [ True False False False False False False False] [False False  True False False False False False] [False False False False False  True False False] [False  True False False False False False False] [False False False False  True False False False] [False False False False False  True False False] [False  True False False False False False False] [False  True False False False False False False] [False  True False False False False False False] [ True False False False False False False False] [False  True False False False False False False] [False  True False False False False False False] [False False False False False  True False False] [False False  True False False False False False] [False False False False False False  True False] [ True False False False False False False False] [False False  True False False False False False] [ True False False False False False False False] [False False False False  True False False False] [ True False False False False False False False] [False  True False False False False False False] [False False False False False False False  True] [False False False  True False False False False] [ True False False False False False False False] [False  True False False False False False False] [False False False False  True False False False] [False False  True False False False False False] [False False False False False  True False False] [False False False False False  True False False] [False False False False False  True False False] [False False False False False False False  True] [False False False False  True False False False] [False False False  True False False False False] [False False False False False False False  True] [False False  True False False False False False] [False  True False False False False False False] [ True False False False False False False False] [ True False False False False False False False] [False False  True False False False False False] [False False  True False False False False False] [False False  True False False False False False] [False  True False False False False False False] [ True False False False False False False False] [False False  True False False False False False] [False  True False False False False False False] [ True False False False False False False False] [False  True False False False False False False] [False  True False False False False False False] [False False  True False False False False False] [False False False False  True False False False] [ True False False False False False False False] [False False False False False False  True False] [False False False False False  True False False] [False False False False  True False False False] [False False  True False False False False False] [False  True False False False False False False] [ True False False False False False False False] [False False  True False False False False False] [False False False False False False False  True] [False False False  True False False False False] [False False False False False False False  True] [False  True False False False False False False] [ True False False False False False False False] [False  True False False False False False False] [False False  True False False False False False] [False  True False False False False False False] [False  True False False False False False False] [False False False False False False False  True] [False False False False False  True False False] [False False  True False False False False False] [False  True False False False False False False] [False False  True False False False False False] [ True False False False False False False False] [False False False False False False  True False] [False False False False  True False False False] [False False False False  True False False False] [False False False False False False  True False] [False False False False False False  True False] [ True False False False False False False False] [ True False False False False False False False] [False  True False False False False False False] [False False False False False  True False False] [False  True False False False False False False] [False False False False False False  True False] [False False False False False  True False False] [False  True False False False False False False] [False  True False False False False False False] [False False  True False False False False False] [False False False  True False False False False] [False  True False False False False False False] [False False False False False  True False False] [False False  True False False False False False] [ True False False False False False False False] [False False False  True False False False False] [False False False False False False False  True] [False False  True False False False False False] [False False  True False False False False False] [False False False  True False False False False] [False False  True False False False False False] [False False  True False False False False False] [False False  True False False False False False] [False  True False False False False False False] [ True False False False False False False False] [False False  True False False False False False] [False False  True False False False False False] [False False  True False False False False False] [False False  True False False False False False] [False False  True False False False False False] [False  True False False False False False False] [ True False False False False False False False] [False False False  True False False False False] [False False False False False  True False False] [False False False False  True False False False] [False  True False False False False False False] [ True False False False False False False False] [False False False False False False False  True] [False  True False False False False False False] [ True False False False False False False False] [ True False False False False False False False] [False False False False False  True False False] [False False False False False False  True False] [False  True False False False False False False] [False False  True False False False False False] [False  True False False False False False False] [False False False False False False False  True] [False False False False False  True False False] [False False False False False  True False False] [False False False False False  True False False] [False False False False False  True False False] [False False False False False  True False False] [False False  True False False False False False] [False  True False False False False False False] [False False  True False False False False False] [False False False False  True False False False] [False False False False False  True False False] [False False False False False  True False False] [False False  True False False False False False] [ True False False False False False False False] [False False False False False False  True False] [ True False False False False False False False] [False False False False False  True False False] [ True False False False False False False False] [False  True False False False False False False] [False  True False False False False False False] [False False False False False  True False False] [False False  True False False False False False] [False False False  True False False False False] [False False False False False False False  True] [False False False  True False False False False] [False  True False False False False False False] [False False False  True False False False False] [False  True False False False False False False] [False False  True False False False False False] [False False False False False  True False False] [ True False False False False False False False] [False False  True False False False False False] [ True False False False False False False False] [ True False False False False False False False] [False False False False False False  True False] [False False False False  True False False False] [False False  True False False False False False] [ True False False False False False False False] [False  True False False False False False False] [ True False False False False False False False] [False False False  True False False False False] [False False False False False False False  True] [False  True False False False False False False] [False False False False False  True False False] [False  True False False False False False False] [False False False False False False  True False] [False False False False  True False False False] [False False False False False  True False False] [False False False  True False False False False] [False False False False False  True False False] [False  True False False False False False False] [False False False False False False False  True] [False  True False False False False False False] [False  True False False False False False False] [False  True False False False False False False] [False  True False False False False False False] [False False False False False  True False False] [False  True False False False False False False] [False False False False  True False False False] [False False False  True False False False False] [ True False False False False False False False] [False  True False False False False False False] [False  True False False False False False False] [False False False False False False  True False] [False False False False False False  True False] [ True False False False False False False False] [ True False False False False False False False] [False False False False False  True False False] [ True False False False False False False False] [False  True False False False False False False] [False False False False  True False False False] [False False  True False False False False False] [False False False False False  True False False] [ True False False False False False False False] [False False False False False False  True False] [False False False False False  True False False] [False False  True False False False False False] [False False False False False  True False False] [False False  True False False False False False] [False False  True False False False False False] [ True False False False False False False False] [False False False  True False False False False] [False False  True False False False False False] [False False  True False False False False False] [False False  True False False False False False] [False  True False False False False False False] [False  True False False False False False False] [ True False False False False False False False] [False False False False False  True False False]\n"
     ]
    }
   ],
   "source": []
  }
 ],
 "metadata": {
  "kernelspec": {
   "display_name": "Python 3",
   "language": "python",
   "name": "python3"
  },
  "language_info": {
   "codemirror_mode": {
    "name": "ipython",
    "version": 3
   },
   "file_extension": ".py",
   "mimetype": "text/x-python",
   "name": "python",
   "nbconvert_exporter": "python",
   "pygments_lexer": "ipython3",
   "version": "3.11.5"
  }
 },
 "nbformat": 4,
 "nbformat_minor": 2
}
